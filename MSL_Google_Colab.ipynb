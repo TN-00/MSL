{
  "nbformat": 4,
  "nbformat_minor": 0,
  "metadata": {
    "colab": {
      "provenance": []
    },
    "kernelspec": {
      "name": "python3",
      "display_name": "Python 3"
    },
    "language_info": {
      "name": "python"
    }
  },
  "cells": [
    {
      "cell_type": "markdown",
      "source": [
        "### School of Innovation Technologies and Engineering\n",
        "\n",
        "Department of Industrial System Engineering\n",
        "\n",
        "\n",
        "---\n",
        "\n",
        "\n",
        "\n",
        "# Interim Report\n",
        "## Mauritian Sign Language System with Machine Learning\n",
        "\n",
        "MSC Computer Science with Emerging Technologies\n",
        "\n",
        "**MSc Dissertation**\n",
        "\n",
        "**Module code: MCSET23BPT**\n",
        "\n",
        "\n",
        "Name: Noyan Tsurishaddaï\n",
        "\n",
        "\n",
        "Student ID: 2310_26618\n",
        "\n",
        "\n",
        "Academic Year: 2024-2025\n",
        "\n",
        "\n",
        "Submission Date: 23 March 2025\n",
        "\n"
      ],
      "metadata": {
        "id": "4Qn969ZmG1ly"
      }
    },
    {
      "cell_type": "code",
      "source": [
        "!pip install keras-tuner"
      ],
      "metadata": {
        "colab": {
          "base_uri": "https://localhost:8080/"
        },
        "id": "Y5y6m1AkHiy2",
        "outputId": "d2936647-3405-446b-c07a-4557e7d7dde5"
      },
      "execution_count": null,
      "outputs": [
        {
          "output_type": "stream",
          "name": "stdout",
          "text": [
            "Collecting keras-tuner\n",
            "  Downloading keras_tuner-1.4.7-py3-none-any.whl.metadata (5.4 kB)\n",
            "Requirement already satisfied: keras in /usr/local/lib/python3.11/dist-packages (from keras-tuner) (3.8.0)\n",
            "Requirement already satisfied: packaging in /usr/local/lib/python3.11/dist-packages (from keras-tuner) (25.0)\n",
            "Requirement already satisfied: requests in /usr/local/lib/python3.11/dist-packages (from keras-tuner) (2.32.3)\n",
            "Collecting kt-legacy (from keras-tuner)\n",
            "  Downloading kt_legacy-1.0.5-py3-none-any.whl.metadata (221 bytes)\n",
            "Requirement already satisfied: absl-py in /usr/local/lib/python3.11/dist-packages (from keras->keras-tuner) (1.4.0)\n",
            "Requirement already satisfied: numpy in /usr/local/lib/python3.11/dist-packages (from keras->keras-tuner) (2.0.2)\n",
            "Requirement already satisfied: rich in /usr/local/lib/python3.11/dist-packages (from keras->keras-tuner) (13.9.4)\n",
            "Requirement already satisfied: namex in /usr/local/lib/python3.11/dist-packages (from keras->keras-tuner) (0.1.0)\n",
            "Requirement already satisfied: h5py in /usr/local/lib/python3.11/dist-packages (from keras->keras-tuner) (3.14.0)\n",
            "Requirement already satisfied: optree in /usr/local/lib/python3.11/dist-packages (from keras->keras-tuner) (0.16.0)\n",
            "Requirement already satisfied: ml-dtypes in /usr/local/lib/python3.11/dist-packages (from keras->keras-tuner) (0.4.1)\n",
            "Requirement already satisfied: charset-normalizer<4,>=2 in /usr/local/lib/python3.11/dist-packages (from requests->keras-tuner) (3.4.2)\n",
            "Requirement already satisfied: idna<4,>=2.5 in /usr/local/lib/python3.11/dist-packages (from requests->keras-tuner) (3.10)\n",
            "Requirement already satisfied: urllib3<3,>=1.21.1 in /usr/local/lib/python3.11/dist-packages (from requests->keras-tuner) (2.5.0)\n",
            "Requirement already satisfied: certifi>=2017.4.17 in /usr/local/lib/python3.11/dist-packages (from requests->keras-tuner) (2025.7.14)\n",
            "Requirement already satisfied: typing-extensions>=4.6.0 in /usr/local/lib/python3.11/dist-packages (from optree->keras->keras-tuner) (4.14.1)\n",
            "Requirement already satisfied: markdown-it-py>=2.2.0 in /usr/local/lib/python3.11/dist-packages (from rich->keras->keras-tuner) (3.0.0)\n",
            "Requirement already satisfied: pygments<3.0.0,>=2.13.0 in /usr/local/lib/python3.11/dist-packages (from rich->keras->keras-tuner) (2.19.2)\n",
            "Requirement already satisfied: mdurl~=0.1 in /usr/local/lib/python3.11/dist-packages (from markdown-it-py>=2.2.0->rich->keras->keras-tuner) (0.1.2)\n",
            "Downloading keras_tuner-1.4.7-py3-none-any.whl (129 kB)\n",
            "\u001b[2K   \u001b[90m━━━━━━━━━━━━━━━━━━━━━━━━━━━━━━━━━━━━━━━━\u001b[0m \u001b[32m129.1/129.1 kB\u001b[0m \u001b[31m3.1 MB/s\u001b[0m eta \u001b[36m0:00:00\u001b[0m\n",
            "\u001b[?25hDownloading kt_legacy-1.0.5-py3-none-any.whl (9.6 kB)\n",
            "Installing collected packages: kt-legacy, keras-tuner\n",
            "Successfully installed keras-tuner-1.4.7 kt-legacy-1.0.5\n"
          ]
        }
      ]
    },
    {
      "cell_type": "code",
      "execution_count": null,
      "metadata": {
        "colab": {
          "base_uri": "https://localhost:8080/"
        },
        "id": "aBu14Jj_oQ8v",
        "outputId": "cbf8a215-dcca-41b8-86de-00b5819bb5a6"
      },
      "outputs": [
        {
          "output_type": "stream",
          "name": "stdout",
          "text": [
            "Collecting scikeras\n",
            "  Downloading scikeras-0.13.0-py3-none-any.whl.metadata (3.1 kB)\n",
            "Requirement already satisfied: keras>=3.2.0 in /usr/local/lib/python3.11/dist-packages (from scikeras) (3.8.0)\n",
            "Requirement already satisfied: scikit-learn>=1.4.2 in /usr/local/lib/python3.11/dist-packages (from scikeras) (1.6.1)\n",
            "Requirement already satisfied: absl-py in /usr/local/lib/python3.11/dist-packages (from keras>=3.2.0->scikeras) (1.4.0)\n",
            "Requirement already satisfied: numpy in /usr/local/lib/python3.11/dist-packages (from keras>=3.2.0->scikeras) (2.0.2)\n",
            "Requirement already satisfied: rich in /usr/local/lib/python3.11/dist-packages (from keras>=3.2.0->scikeras) (13.9.4)\n",
            "Requirement already satisfied: namex in /usr/local/lib/python3.11/dist-packages (from keras>=3.2.0->scikeras) (0.1.0)\n",
            "Requirement already satisfied: h5py in /usr/local/lib/python3.11/dist-packages (from keras>=3.2.0->scikeras) (3.14.0)\n",
            "Requirement already satisfied: optree in /usr/local/lib/python3.11/dist-packages (from keras>=3.2.0->scikeras) (0.16.0)\n",
            "Requirement already satisfied: ml-dtypes in /usr/local/lib/python3.11/dist-packages (from keras>=3.2.0->scikeras) (0.4.1)\n",
            "Requirement already satisfied: packaging in /usr/local/lib/python3.11/dist-packages (from keras>=3.2.0->scikeras) (25.0)\n",
            "Requirement already satisfied: scipy>=1.6.0 in /usr/local/lib/python3.11/dist-packages (from scikit-learn>=1.4.2->scikeras) (1.16.0)\n",
            "Requirement already satisfied: joblib>=1.2.0 in /usr/local/lib/python3.11/dist-packages (from scikit-learn>=1.4.2->scikeras) (1.5.1)\n",
            "Requirement already satisfied: threadpoolctl>=3.1.0 in /usr/local/lib/python3.11/dist-packages (from scikit-learn>=1.4.2->scikeras) (3.6.0)\n",
            "Requirement already satisfied: typing-extensions>=4.6.0 in /usr/local/lib/python3.11/dist-packages (from optree->keras>=3.2.0->scikeras) (4.14.1)\n",
            "Requirement already satisfied: markdown-it-py>=2.2.0 in /usr/local/lib/python3.11/dist-packages (from rich->keras>=3.2.0->scikeras) (3.0.0)\n",
            "Requirement already satisfied: pygments<3.0.0,>=2.13.0 in /usr/local/lib/python3.11/dist-packages (from rich->keras>=3.2.0->scikeras) (2.19.2)\n",
            "Requirement already satisfied: mdurl~=0.1 in /usr/local/lib/python3.11/dist-packages (from markdown-it-py>=2.2.0->rich->keras>=3.2.0->scikeras) (0.1.2)\n",
            "Downloading scikeras-0.13.0-py3-none-any.whl (26 kB)\n",
            "Installing collected packages: scikeras\n",
            "Successfully installed scikeras-0.13.0\n"
          ]
        }
      ],
      "source": [
        "!pip install scikeras"
      ]
    },
    {
      "cell_type": "code",
      "source": [
        "!pip uninstall opencv-python -y\n",
        "!pip install opencv-contrib-python==4.11.0.86"
      ],
      "metadata": {
        "colab": {
          "base_uri": "https://localhost:8080/"
        },
        "id": "hQbHD5j7edQE",
        "outputId": "35b3b3e3-d18b-48be-a3aa-ef89b76d6f50"
      },
      "execution_count": null,
      "outputs": [
        {
          "output_type": "stream",
          "name": "stdout",
          "text": [
            "Found existing installation: opencv-python 4.12.0.88\n",
            "Uninstalling opencv-python-4.12.0.88:\n",
            "  Successfully uninstalled opencv-python-4.12.0.88\n",
            "Requirement already satisfied: opencv-contrib-python==4.11.0.86 in /usr/local/lib/python3.11/dist-packages (4.11.0.86)\n",
            "Requirement already satisfied: numpy>=1.21.2 in /usr/local/lib/python3.11/dist-packages (from opencv-contrib-python==4.11.0.86) (1.26.4)\n"
          ]
        }
      ]
    },
    {
      "cell_type": "code",
      "source": [
        "!pip install mediapipe==0.10.21"
      ],
      "metadata": {
        "colab": {
          "base_uri": "https://localhost:8080/"
        },
        "id": "dnD74-nthgSe",
        "outputId": "c1338833-c84c-40b7-926c-f04bf5ed32ac"
      },
      "execution_count": null,
      "outputs": [
        {
          "output_type": "stream",
          "name": "stdout",
          "text": [
            "Requirement already satisfied: mediapipe==0.10.21 in /usr/local/lib/python3.11/dist-packages (0.10.21)\n",
            "Requirement already satisfied: absl-py in /usr/local/lib/python3.11/dist-packages (from mediapipe==0.10.21) (1.4.0)\n",
            "Requirement already satisfied: attrs>=19.1.0 in /usr/local/lib/python3.11/dist-packages (from mediapipe==0.10.21) (25.3.0)\n",
            "Requirement already satisfied: flatbuffers>=2.0 in /usr/local/lib/python3.11/dist-packages (from mediapipe==0.10.21) (25.2.10)\n",
            "Requirement already satisfied: jax in /usr/local/lib/python3.11/dist-packages (from mediapipe==0.10.21) (0.5.2)\n",
            "Requirement already satisfied: jaxlib in /usr/local/lib/python3.11/dist-packages (from mediapipe==0.10.21) (0.5.1)\n",
            "Requirement already satisfied: matplotlib in /usr/local/lib/python3.11/dist-packages (from mediapipe==0.10.21) (3.10.0)\n",
            "Requirement already satisfied: numpy<2 in /usr/local/lib/python3.11/dist-packages (from mediapipe==0.10.21) (1.26.4)\n",
            "Requirement already satisfied: opencv-contrib-python in /usr/local/lib/python3.11/dist-packages (from mediapipe==0.10.21) (4.11.0.86)\n",
            "Requirement already satisfied: protobuf<5,>=4.25.3 in /usr/local/lib/python3.11/dist-packages (from mediapipe==0.10.21) (4.25.8)\n",
            "Requirement already satisfied: sounddevice>=0.4.4 in /usr/local/lib/python3.11/dist-packages (from mediapipe==0.10.21) (0.5.2)\n",
            "Requirement already satisfied: sentencepiece in /usr/local/lib/python3.11/dist-packages (from mediapipe==0.10.21) (0.2.0)\n",
            "Requirement already satisfied: CFFI>=1.0 in /usr/local/lib/python3.11/dist-packages (from sounddevice>=0.4.4->mediapipe==0.10.21) (1.17.1)\n",
            "Requirement already satisfied: ml_dtypes>=0.4.0 in /usr/local/lib/python3.11/dist-packages (from jax->mediapipe==0.10.21) (0.4.1)\n",
            "Requirement already satisfied: opt_einsum in /usr/local/lib/python3.11/dist-packages (from jax->mediapipe==0.10.21) (3.4.0)\n",
            "Requirement already satisfied: scipy>=1.11.1 in /usr/local/lib/python3.11/dist-packages (from jax->mediapipe==0.10.21) (1.16.0)\n",
            "Requirement already satisfied: contourpy>=1.0.1 in /usr/local/lib/python3.11/dist-packages (from matplotlib->mediapipe==0.10.21) (1.3.2)\n",
            "Requirement already satisfied: cycler>=0.10 in /usr/local/lib/python3.11/dist-packages (from matplotlib->mediapipe==0.10.21) (0.12.1)\n",
            "Requirement already satisfied: fonttools>=4.22.0 in /usr/local/lib/python3.11/dist-packages (from matplotlib->mediapipe==0.10.21) (4.59.0)\n",
            "Requirement already satisfied: kiwisolver>=1.3.1 in /usr/local/lib/python3.11/dist-packages (from matplotlib->mediapipe==0.10.21) (1.4.8)\n",
            "Requirement already satisfied: packaging>=20.0 in /usr/local/lib/python3.11/dist-packages (from matplotlib->mediapipe==0.10.21) (25.0)\n",
            "Requirement already satisfied: pillow>=8 in /usr/local/lib/python3.11/dist-packages (from matplotlib->mediapipe==0.10.21) (11.3.0)\n",
            "Requirement already satisfied: pyparsing>=2.3.1 in /usr/local/lib/python3.11/dist-packages (from matplotlib->mediapipe==0.10.21) (3.2.3)\n",
            "Requirement already satisfied: python-dateutil>=2.7 in /usr/local/lib/python3.11/dist-packages (from matplotlib->mediapipe==0.10.21) (2.9.0.post0)\n",
            "Requirement already satisfied: pycparser in /usr/local/lib/python3.11/dist-packages (from CFFI>=1.0->sounddevice>=0.4.4->mediapipe==0.10.21) (2.22)\n",
            "Requirement already satisfied: six>=1.5 in /usr/local/lib/python3.11/dist-packages (from python-dateutil>=2.7->matplotlib->mediapipe==0.10.21) (1.17.0)\n"
          ]
        }
      ]
    },
    {
      "cell_type": "code",
      "source": [
        "# importing libraries and related module\n",
        "import tensorflow\n",
        "from tensorflow.keras import layers, models, datasets\n",
        "from tensorflow.keras.preprocessing.image import ImageDataGenerator\n",
        "from tensorflow.keras.callbacks import ModelCheckpoint, EarlyStopping, LearningRateScheduler\n",
        "from tensorflow.keras.regularizers import l2\n",
        "from tensorflow.keras.layers import BatchNormalization, LeakyReLU\n",
        "from tensorflow.keras.optimizers import Adam\n",
        "from tensorflow.data import Dataset\n",
        "from tensorflow.keras.utils import plot_model, to_categorical\n",
        "from tensorflow.keras.layers import Dropout, Dense, Flatten, Conv2D, MaxPooling2D\n",
        "from tensorflow.keras.models import Sequential\n",
        "\n",
        "from keras_tuner import RandomSearch\n",
        "\n",
        "from scikeras.wrappers import KerasClassifier\n",
        "\n",
        "from sklearn.model_selection import GridSearchCV, RandomizedSearchCV, train_test_split\n",
        "from sklearn.metrics import classification_report, confusion_matrix\n",
        "\n",
        "import matplotlib.pyplot as plt\n",
        "import pandas as pd\n",
        "import numpy as np\n",
        "import os\n",
        "import cv2\n",
        "from google.colab.patches import cv2_imshow\n",
        "from PIL import Image # import Image\n",
        "import mediapipe as mp\n"
      ],
      "metadata": {
        "id": "rcLl441HH4IG"
      },
      "execution_count": null,
      "outputs": []
    },
    {
      "cell_type": "markdown",
      "source": [
        "Step 1: data preprocessing"
      ],
      "metadata": {
        "id": "_smqnP0NICFu"
      }
    },
    {
      "cell_type": "code",
      "source": [
        "# check if file path exist\n",
        "file_path = '/content/drive/MyDrive/Colab Notebooks/add_miss_sign_mnist_train.csv'\n",
        "\n",
        "if not os.path.exists(file_path):\n",
        "    print(f\"Error: Data file '{file_path}' does not exist.\")\n",
        "else:\n",
        "    print(f\"Data file '{file_path}' exists. Loading data...\")\n",
        "    # Reading the sign language dataset as 'asl_data'\n",
        "    asl_data = pd.read_csv(file_path)\n",
        "    print(\"Data loaded successfully.\")"
      ],
      "metadata": {
        "id": "dcur7vTuIAqM",
        "colab": {
          "base_uri": "https://localhost:8080/"
        },
        "outputId": "178f8357-fec4-49cd-80d3-f5bf25ecd113"
      },
      "execution_count": null,
      "outputs": [
        {
          "output_type": "stream",
          "name": "stdout",
          "text": [
            "Data file '/content/drive/MyDrive/Colab Notebooks/add_miss_sign_mnist_train.csv' exists. Loading data...\n",
            "Data loaded successfully.\n"
          ]
        }
      ]
    },
    {
      "cell_type": "code",
      "source": [
        "# Displaying first 5 in the row\n",
        "print(asl_data.head())"
      ],
      "metadata": {
        "colab": {
          "base_uri": "https://localhost:8080/"
        },
        "id": "GeDpcY-tJmw8",
        "outputId": "d671c0ea-d3b1-4b03-8ef4-098c915780e6"
      },
      "execution_count": null,
      "outputs": [
        {
          "output_type": "stream",
          "name": "stdout",
          "text": [
            "   label  pixel1  pixel2  pixel3  pixel4  pixel5  pixel6  pixel7  pixel8  \\\n",
            "0      3     107     118     127     134     139     143     146     150   \n",
            "1      6     155     157     156     156     156     157     156     158   \n",
            "2      2     187     188     188     187     187     186     187     188   \n",
            "3      2     211     211     212     212     211     210     211     210   \n",
            "4     13     164     167     170     172     176     179     180     184   \n",
            "\n",
            "   pixel9  ...  pixel775  pixel776  pixel777  pixel778  pixel779  pixel780  \\\n",
            "0     153  ...       207       207       207       207       206       206   \n",
            "1     158  ...        69       149       128        87        94       163   \n",
            "2     187  ...       202       201       200       199       198       199   \n",
            "3     210  ...       235       234       233       231       230       226   \n",
            "4     185  ...        92       105       105       108       133       163   \n",
            "\n",
            "   pixel781  pixel782  pixel783  pixel784  \n",
            "0       206       204       203       202  \n",
            "1       175       103       135       149  \n",
            "2       198       195       194       195  \n",
            "3       225       222       229       163  \n",
            "4       157       163       164       179  \n",
            "\n",
            "[5 rows x 785 columns]\n"
          ]
        }
      ]
    },
    {
      "cell_type": "code",
      "source": [
        "# Display the shape of the original dataset\n",
        "print(f\"Original dataset has {asl_data.shape[0]} rows and {asl_data.shape[1]} columns.\")"
      ],
      "metadata": {
        "colab": {
          "base_uri": "https://localhost:8080/"
        },
        "id": "IsjO3fnbJokS",
        "outputId": "841a23e7-3196-4261-8fb9-c124017f05f5"
      },
      "execution_count": null,
      "outputs": [
        {
          "output_type": "stream",
          "name": "stdout",
          "text": [
            "Original dataset has 27455 rows and 785 columns.\n"
          ]
        }
      ]
    },
    {
      "cell_type": "code",
      "source": [
        "dataset_size = asl_data.shape[0]\n",
        "print(f\"Dataset size: {dataset_size}\")"
      ],
      "metadata": {
        "id": "cTVW9JtbiTZN",
        "colab": {
          "base_uri": "https://localhost:8080/"
        },
        "outputId": "b157123f-9f7d-41be-9bf9-dbe2cded6a38"
      },
      "execution_count": null,
      "outputs": [
        {
          "output_type": "stream",
          "name": "stdout",
          "text": [
            "Dataset size: 27455\n"
          ]
        }
      ]
    },
    {
      "cell_type": "code",
      "source": [
        "# Proper loading and preprocessing of the Sign Language dataset\n",
        "# separate the features and labels:\n",
        "# train_images = asl_data.drop(columns=['filename']).iloc[:, 1:].values\n",
        "train_images = asl_data.iloc[:, 1:].values\n",
        "train_labels = asl_data.iloc[:, 0].values\n",
        "\n",
        "# test_images = asl_data.drop(columns=['filename']).iloc[:, 1:].values\n",
        "test_images = asl_data.iloc[:, 1:].values\n",
        "test_labels = asl_data.iloc[:, 0].values"
      ],
      "metadata": {
        "id": "YwC9CrBbJuOH"
      },
      "execution_count": null,
      "outputs": []
    },
    {
      "cell_type": "code",
      "source": [
        "# normalise\n",
        "train_images = train_images / 255.0  # Normalize pixel values to the range [0, 1]\n",
        "test_images = test_images / 255.0"
      ],
      "metadata": {
        "id": "ZyVFs0BYJwtl"
      },
      "execution_count": null,
      "outputs": []
    },
    {
      "cell_type": "code",
      "source": [
        "test_images = test_images / 255.0"
      ],
      "metadata": {
        "id": "hD8B0h_vJyeG"
      },
      "execution_count": null,
      "outputs": []
    },
    {
      "cell_type": "code",
      "source": [
        "import numpy as np\n",
        "import matplotlib.pyplot as plt\n",
        "\n",
        "def generate_image(letter1, letter2):\n",
        "    # Combine pixel values of two letters\n",
        "    combined_pixels = (letter1 + letter2) / 2\n",
        "    return combined_pixels\n",
        "\n",
        "# Example: Generate synthetic image for J (combining I and K)\n",
        "# Assuming 'label' is the name of the first column containing the label (0-25 for a-z)\n",
        "# Accessing data for label 8 (i)\n",
        "i_pixels = asl_data.loc[asl_data['label'] == 8].drop('label', axis=1).values[0]\n",
        "# Accessing data for label 10 (k)\n",
        "k_pixels = asl_data.loc[asl_data['label'] == 10].drop('label', axis=1).values[0]\n",
        "j_pixels = generate_image(i_pixels, k_pixels)\n",
        "\n",
        "# Reshape to 28x28, ensuring the correct number of elements (784)\n",
        "# j_pixels = j_pixels.reshape(28, 28) # Changed from j_pixels.reshape(28, 28)\n",
        "\n",
        "\n",
        "# Display the synthetic image\n",
        "# plt.imshow(j_pixels, cmap='gray')\n",
        "# plt.title('Synthetic Image for J')\n",
        "# plt.show()\n"
      ],
      "metadata": {
        "id": "Y-OFgjByoyCD"
      },
      "execution_count": null,
      "outputs": []
    },
    {
      "cell_type": "code",
      "source": [
        "import cv2\n",
        "import numpy as np\n",
        "import matplotlib.pyplot as plt\n",
        "\n",
        "def draw_j():\n",
        "    img = np.ones((28, 28), dtype=np.uint8) * 255  # white background\n",
        "    # Draw a curved line resembling the letter 'J'\n",
        "    cv2.polylines(img, [np.array([[14, 10], [12, 15], [14, 20], [16, 25], [18, 20], [16, 15], [14, 10]], dtype=np.int32)], isClosed=False, color=0, thickness=2)\n",
        "    return img\n",
        "\n",
        "def draw_z():\n",
        "    img = np.ones((28, 28), dtype=np.uint8) * 255  # white background\n",
        "    # Draw a 'Z' shape\n",
        "    cv2.line(img, (6, 6), (20, 6), 0, 2)  # top horizontal line\n",
        "    cv2.line(img, (20, 6), (10, 14), 0, 2)  # diagonal line\n",
        "    cv2.line(img, (10, 14), (6, 22), 0, 2)  # bottom diagonal line\n",
        "    cv2.line(img, (6, 22), (20, 22), 0, 2)  # bottom horizontal line\n",
        "    return img\n",
        "\n",
        "# Generate and display the images\n",
        "j_img = draw_j()\n",
        "z_img = draw_z()\n"
      ],
      "metadata": {
        "id": "6cNf3DJerByN"
      },
      "execution_count": null,
      "outputs": []
    },
    {
      "cell_type": "code",
      "source": [
        "import os\n",
        "import cv2\n",
        "\n",
        "new_data_dir = \"/content/drive/MyDrive/dissertation/MSL/Sprint/Sprint_2/add_missing_alpha.gsheet\"\n",
        "\n",
        "# using the new data directory to add missing alphabets\n",
        "\n",
        "\n",
        "# for filename in os.listdir(new_data_dir):\n",
        "#     if filename.endswith(\".jpg\") or filename.endswith(\".png\"):\n",
        "#         img_path = os.path.join(new_data_dir, filename)\n",
        "#         img = cv2.imread(img_path, cv2.IMREAD_GRAYSCALE)  # Assuming images are grayscale\n",
        "        # ... (append img and label to existing data)"
      ],
      "metadata": {
        "id": "o0I_iWC43Bz6"
      },
      "execution_count": null,
      "outputs": []
    },
    {
      "cell_type": "code",
      "source": [
        "# creating dataset entries\n",
        "data = []\n",
        "labels = []\n"
      ],
      "metadata": {
        "id": "e0wQMZICsxl8"
      },
      "execution_count": null,
      "outputs": []
    },
    {
      "cell_type": "code",
      "source": [
        "# landmark detection\n",
        "mp_hands = mp.solutions.hands\n",
        "hands = mp_hands.Hands()\n"
      ],
      "metadata": {
        "id": "01_nqCFunUOO"
      },
      "execution_count": null,
      "outputs": []
    },
    {
      "cell_type": "code",
      "source": [
        "#  creating a list to store theimages and their corresponding labels: label 9 (j) and label 25 (z)\n",
        "\n",
        "new_images = [j_img, z_img]\n",
        "new_labels = [9, 25]"
      ],
      "metadata": {
        "id": "rxMMc7fYnDEM"
      },
      "execution_count": null,
      "outputs": []
    },
    {
      "cell_type": "code",
      "source": [
        "# creating a list to store numbers as well as their corresponding labels such as: label 26 (0) till label 35 (9)\n",
        "# new_images = [img0, img1, img2, img3, img4, img5, img6, img7, img8, img9]\n",
        "# new_labels = [26, 27, 28, 29, 30, 31, 32, 33, 34, 35]"
      ],
      "metadata": {
        "id": "VrpZ5vJ0WeMh"
      },
      "execution_count": null,
      "outputs": []
    },
    {
      "cell_type": "code",
      "source": [
        "# Preprocess the images\n",
        "\n",
        "#  reshape and normalise the images to be compatible with model's format\n",
        "\n",
        "new_images = np.array(new_images)\n",
        "new_images = new_images.reshape(-1, 28, 28, 1)\n",
        "new_images = new_images / 255.0 # Normalize to [0, 1]"
      ],
      "metadata": {
        "id": "ql_MbfDftE5L"
      },
      "execution_count": null,
      "outputs": []
    },
    {
      "cell_type": "code",
      "source": [
        "# Combining with existing data\n",
        "train_images = train_images.reshape(-1, 28, 28, 1) # Reshape train_images to have 4 dimensions\n",
        "train_images = np.concatenate([train_images, new_images])\n",
        "train_labels = np.concatenate([train_labels, new_labels])"
      ],
      "metadata": {
        "id": "nqiclq2stbUH"
      },
      "execution_count": null,
      "outputs": []
    },
    {
      "cell_type": "code",
      "source": [
        "# normalise\n",
        "train_images = train_images / 255.0  # Normalize pixel values to the range [0, 1]"
      ],
      "metadata": {
        "id": "bpp-9nTX3vvg"
      },
      "execution_count": null,
      "outputs": []
    },
    {
      "cell_type": "code",
      "source": [
        "print(asl_data['label'].unique())"
      ],
      "metadata": {
        "colab": {
          "base_uri": "https://localhost:8080/"
        },
        "id": "s9VBZlSArtuZ",
        "outputId": "d1bbc7e0-c7ce-4d0b-8c66-0e98b5aba0a1"
      },
      "execution_count": null,
      "outputs": [
        {
          "output_type": "stream",
          "name": "stdout",
          "text": [
            "[ 3  6  2 13 16  8 22 18 10 20 17 19 21 23 24  1 12 11 15  4  0  5  7 14]\n"
          ]
        }
      ]
    },
    {
      "cell_type": "code",
      "source": [
        "print(asl_data['label'] == 9)"
      ],
      "metadata": {
        "colab": {
          "base_uri": "https://localhost:8080/"
        },
        "id": "q6Y6DU-XDO_d",
        "outputId": "ebb6b76e-9427-479d-84ac-f1267a580b98"
      },
      "execution_count": null,
      "outputs": [
        {
          "output_type": "stream",
          "name": "stdout",
          "text": [
            "0        False\n",
            "1        False\n",
            "2        False\n",
            "3        False\n",
            "4        False\n",
            "         ...  \n",
            "27450    False\n",
            "27451    False\n",
            "27452    False\n",
            "27453    False\n",
            "27454    False\n",
            "Name: label, Length: 27455, dtype: bool\n"
          ]
        }
      ]
    },
    {
      "cell_type": "code",
      "source": [
        "# Check the unique classes in the target variable\n",
        "num_classes = asl_data['label'].nunique()\n",
        "print(f'Number of unique classes: {num_classes}')  # Should print 24"
      ],
      "metadata": {
        "colab": {
          "base_uri": "https://localhost:8080/"
        },
        "id": "VsoHPKMDJ1ap",
        "outputId": "a36efc8c-bb23-4f4e-f324-44308dae45ac"
      },
      "execution_count": null,
      "outputs": [
        {
          "output_type": "stream",
          "name": "stdout",
          "text": [
            "Number of unique classes: 24\n"
          ]
        }
      ]
    },
    {
      "cell_type": "code",
      "source": [
        "# As the dataset is huge, therefore, 100% is selected first to train the data and will gradually progess till 100%\n",
        "# subset_fraction = 1\n",
        "# subset_size_train = int(len(train_images)* subset_fraction)\n",
        "# subset_size_test = int(len(test_images)* subset_fraction)\n",
        "\n",
        "# train_images, train_labels = train_images[:subset_size_train], train_labels[:subset_size_train]\n",
        "# test_images, test_labels = test_images[:subset_size_test], test_labels[:subset_size_test]\n"
      ],
      "metadata": {
        "id": "EYVVWDhSBRzn"
      },
      "execution_count": null,
      "outputs": []
    },
    {
      "cell_type": "code",
      "source": [
        "# Convert train_labels to a consistent data type (e.g., int)\n",
        "# train_labels = train_labels.astype(int)\n",
        "# get unique class labels from the training labels\n",
        "unique_labels = np.unique(train_labels)\n",
        "\n",
        "# Print the unique class labels\n",
        "print(\"Unique class labels in the dataset:\")\n",
        "print(unique_labels)"
      ],
      "metadata": {
        "colab": {
          "base_uri": "https://localhost:8080/"
        },
        "id": "5_I5oZjuJ74Y",
        "outputId": "047e33e0-4d79-4f34-c421-aa25457c0ff9"
      },
      "execution_count": null,
      "outputs": [
        {
          "output_type": "stream",
          "name": "stdout",
          "text": [
            "Unique class labels in the dataset:\n",
            "[ 0  1  2  3  4  5  6  7  8 10 11 12 13 14 15 16 17 18 19 20 21 22 23 24]\n"
          ]
        }
      ]
    },
    {
      "cell_type": "code",
      "source": [
        "# define a class name to link the label with the alphabets\n",
        "class_names = ['a', 'b', 'c', 'd', 'e', 'f', 'g', 'h', 'i', 'j', 'k', 'l', 'm', 'n',\n",
        "               'o', 'p', 'q', 'r', 's', 't', 'u', 'v', 'w', 'x', 'y', 'z']\n",
        "\n",
        "# Print the class names\n",
        "print(\"Sign Language classes:\")\n",
        "for i, class_name in enumerate(class_names):\n",
        "    print(f\"{i}: {class_name}\")"
      ],
      "metadata": {
        "colab": {
          "base_uri": "https://localhost:8080/"
        },
        "id": "mzTI6reeJ9tn",
        "outputId": "846414b1-97e7-456d-e470-f8c667709a27"
      },
      "execution_count": null,
      "outputs": [
        {
          "output_type": "stream",
          "name": "stdout",
          "text": [
            "Sign Language classes:\n",
            "0: a\n",
            "1: b\n",
            "2: c\n",
            "3: d\n",
            "4: e\n",
            "5: f\n",
            "6: g\n",
            "7: h\n",
            "8: i\n",
            "9: j\n",
            "10: k\n",
            "11: l\n",
            "12: m\n",
            "13: n\n",
            "14: o\n",
            "15: p\n",
            "16: q\n",
            "17: r\n",
            "18: s\n",
            "19: t\n",
            "20: u\n",
            "21: v\n",
            "22: w\n",
            "23: x\n",
            "24: y\n",
            "25: z\n"
          ]
        }
      ]
    },
    {
      "cell_type": "code",
      "source": [
        "print(asl_data['label'].unique)"
      ],
      "metadata": {
        "colab": {
          "base_uri": "https://localhost:8080/"
        },
        "id": "ixZT3I2oumBH",
        "outputId": "da87b968-54d8-45d6-e444-df27b8c9ac2b"
      },
      "execution_count": null,
      "outputs": [
        {
          "output_type": "stream",
          "name": "stdout",
          "text": [
            "<bound method Series.unique of 0         3\n",
            "1         6\n",
            "2         2\n",
            "3         2\n",
            "4        13\n",
            "         ..\n",
            "27450    13\n",
            "27451    23\n",
            "27452    18\n",
            "27453    17\n",
            "27454    23\n",
            "Name: label, Length: 27455, dtype: int64>\n"
          ]
        }
      ]
    },
    {
      "cell_type": "code",
      "source": [
        "print(asl_data[asl_data['label'] == 9].shape)"
      ],
      "metadata": {
        "colab": {
          "base_uri": "https://localhost:8080/"
        },
        "id": "xz0se1qfuyj9",
        "outputId": "e21261c7-099a-40af-9d38-525c106c30a2"
      },
      "execution_count": null,
      "outputs": [
        {
          "output_type": "stream",
          "name": "stdout",
          "text": [
            "(0, 785)\n"
          ]
        }
      ]
    },
    {
      "cell_type": "code",
      "source": [
        "print(asl_data[asl_data['label'] == 25].shape)"
      ],
      "metadata": {
        "colab": {
          "base_uri": "https://localhost:8080/"
        },
        "id": "s7utmhXmu2jZ",
        "outputId": "3c1bd351-2682-494a-fb01-9211416e6518"
      },
      "execution_count": null,
      "outputs": [
        {
          "output_type": "stream",
          "name": "stdout",
          "text": [
            "(0, 785)\n"
          ]
        }
      ]
    },
    {
      "cell_type": "code",
      "source": [
        "# Count occurrences of each label in the training dataset\n",
        "unique_labels, counts = np.unique(train_labels, return_counts=True)\n",
        "\n",
        "# Print the details of unique labels and their counts\n",
        "print(\"Label details:\")\n",
        "for label, count in zip(unique_labels, counts):\n",
        "    print(f'Label {label} ({class_names[label]}): {count} samples')"
      ],
      "metadata": {
        "id": "IbFGURxjKIct",
        "outputId": "91915453-59f7-46bb-8b2f-a24370bca22f",
        "colab": {
          "base_uri": "https://localhost:8080/"
        }
      },
      "execution_count": null,
      "outputs": [
        {
          "output_type": "stream",
          "name": "stdout",
          "text": [
            "Label details:\n",
            "Label 0 (a): 1126 samples\n",
            "Label 1 (b): 1010 samples\n",
            "Label 2 (c): 1144 samples\n",
            "Label 3 (d): 1196 samples\n",
            "Label 4 (e): 957 samples\n",
            "Label 5 (f): 1204 samples\n",
            "Label 6 (g): 1090 samples\n",
            "Label 7 (h): 1013 samples\n",
            "Label 8 (i): 1162 samples\n",
            "Label 10 (k): 1114 samples\n",
            "Label 11 (l): 1241 samples\n",
            "Label 12 (m): 1055 samples\n",
            "Label 13 (n): 1151 samples\n",
            "Label 14 (o): 1196 samples\n",
            "Label 15 (p): 1088 samples\n",
            "Label 16 (q): 1279 samples\n",
            "Label 17 (r): 1294 samples\n",
            "Label 18 (s): 1199 samples\n",
            "Label 19 (t): 1186 samples\n",
            "Label 20 (u): 1161 samples\n",
            "Label 21 (v): 1082 samples\n",
            "Label 22 (w): 1225 samples\n",
            "Label 23 (x): 1164 samples\n",
            "Label 24 (y): 1118 samples\n"
          ]
        }
      ]
    },
    {
      "cell_type": "code",
      "source": [
        "# adding missing values \"J\", \"Z\" images\n"
      ],
      "metadata": {
        "id": "uUyiBdJydoMV"
      },
      "execution_count": null,
      "outputs": []
    },
    {
      "cell_type": "code",
      "source": [
        "# collecting images from webcam\n",
        "\n",
        "# importing dependencies\n",
        "import cv2\n",
        "import os\n",
        "import time\n",
        "import uuid\n",
        "\n",
        "\n",
        "from IPython.display import display, Javascript, Image\n",
        "from google.colab.output import eval_js\n",
        "from base64 import b64decode, b64encode\n",
        "import numpy as np\n",
        "import PIL\n",
        "import io\n",
        "import html\n",
        "import time\n"
      ],
      "metadata": {
        "id": "Fn1RTfY1oKcy"
      },
      "execution_count": null,
      "outputs": []
    },
    {
      "cell_type": "code",
      "source": [
        "# creating Image path\n",
        "img_path = '/content/drive/MyDrive/Colab'"
      ],
      "metadata": {
        "id": "96XcI0XBoKW_"
      },
      "execution_count": null,
      "outputs": []
    },
    {
      "cell_type": "code",
      "source": [
        "# defining the labels and images to collect\n",
        "\n",
        "# j, z and 0-9\n",
        "\n",
        "# setting up an array of labels and number of images to collect\n",
        "\n",
        "labels = ['j', 'k']\n",
        "number_imgs = 5"
      ],
      "metadata": {
        "id": "hOyio5HZoKUN"
      },
      "execution_count": null,
      "outputs": []
    },
    {
      "cell_type": "code",
      "source": [
        "def take_photo(filename='photo.jpg', quality=0.8):\n",
        "  js = Javascript('''\n",
        "    async function takePhoto(quality) {\n",
        "      const div = document.createElement('div');\n",
        "      const capture = document.createElement('button');\n",
        "      capture.textContent = 'Capture';\n",
        "      div.appendChild(capture);\n",
        "\n",
        "      const video = document.createElement('video');\n",
        "      video.style.display = 'block';\n",
        "      const stream = await navigator.mediaDevices.getUserMedia({video: true});\n",
        "\n",
        "      document.body.appendChild(div);\n",
        "      div.appendChild(video);\n",
        "      video.srcObject = stream;\n",
        "      await video.play();\n",
        "\n",
        "      // Resize the output to fit the video element.\n",
        "      google.colab.output.setIframeHeight(document.documentElement.scrollHeight, true);\n",
        "\n",
        "      // Wait for Capture to be clicked.\n",
        "      await new Promise((resolve) => capture.onclick = resolve);\n",
        "\n",
        "      const canvas = document.createElement('canvas');\n",
        "      canvas.width = video.videoWidth;\n",
        "      canvas.height = video.videoHeight;\n",
        "      canvas.getContext('2d').drawImage(video, 0, 0);\n",
        "      stream.getVideoTracks()[0].stop();\n",
        "      div.remove();\n",
        "      return canvas.toDataURL('image/jpeg', quality);\n",
        "    }\n",
        "    ''')\n",
        "  display(js)\n",
        "\n",
        "  # get photo data\n",
        "  data = eval_js('takePhoto({})'.format(quality))\n",
        "  # get OpenCV format image\n",
        "  img = js_to_image(data)\n",
        "  # grayscale img\n",
        "  gray = cv2.cvtColor(img, cv2.COLOR_RGB2GRAY)\n",
        "  print(gray.shape)\n",
        "  # get face bounding box coordinates using Haar Cascade\n",
        "  faces = face_cascade.detectMultiScale(gray)\n",
        "  # draw face bounding box on image\n",
        "  for (x,y,w,h) in faces:\n",
        "      img = cv2.rectangle(img,(x,y),(x+w,y+h),(255,0,0),2)\n",
        "  # save image\n",
        "  cv2.imwrite(filename, img)\n",
        "\n",
        "  return filename"
      ],
      "metadata": {
        "id": "htoULT95qBJL"
      },
      "execution_count": null,
      "outputs": []
    },
    {
      "cell_type": "code",
      "source": [
        "try:\n",
        "  filename = take_photo('photo.jpg')\n",
        "  print('Saved to {}'.format(filename))\n",
        "\n",
        "  # Show the image which was just taken.\n",
        "  display(Image(filename))\n",
        "except Exception as err:\n",
        "  # Errors will be thrown if the user does not have a webcam or if they do not\n",
        "  # grant the page permission to access it.\n",
        "  print(str(err))"
      ],
      "metadata": {
        "colab": {
          "base_uri": "https://localhost:8080/",
          "height": 34
        },
        "id": "hhkbIinYulvH",
        "outputId": "057e7a3e-394f-4df4-f8e9-0a289a8ee791"
      },
      "execution_count": null,
      "outputs": [
        {
          "output_type": "display_data",
          "data": {
            "text/plain": [
              "<IPython.core.display.Javascript object>"
            ],
            "application/javascript": [
              "\n",
              "    async function takePhoto(quality) {\n",
              "      const div = document.createElement('div');\n",
              "      const capture = document.createElement('button');\n",
              "      capture.textContent = 'Capture';\n",
              "      div.appendChild(capture);\n",
              "\n",
              "      const video = document.createElement('video');\n",
              "      video.style.display = 'block';\n",
              "      const stream = await navigator.mediaDevices.getUserMedia({video: true});\n",
              "\n",
              "      document.body.appendChild(div);\n",
              "      div.appendChild(video);\n",
              "      video.srcObject = stream;\n",
              "      await video.play();\n",
              "\n",
              "      // Resize the output to fit the video element.\n",
              "      google.colab.output.setIframeHeight(document.documentElement.scrollHeight, true);\n",
              "\n",
              "      // Wait for Capture to be clicked.\n",
              "      await new Promise((resolve) => capture.onclick = resolve);\n",
              "\n",
              "      const canvas = document.createElement('canvas');\n",
              "      canvas.width = video.videoWidth;\n",
              "      canvas.height = video.videoHeight;\n",
              "      canvas.getContext('2d').drawImage(video, 0, 0);\n",
              "      stream.getVideoTracks()[0].stop();\n",
              "      div.remove();\n",
              "      return canvas.toDataURL('image/jpeg', quality);\n",
              "    }\n",
              "    "
            ]
          },
          "metadata": {}
        },
        {
          "output_type": "stream",
          "name": "stdout",
          "text": [
            "name 'js_to_image' is not defined\n"
          ]
        }
      ]
    },
    {
      "cell_type": "code",
      "source": [
        "# collect images\n",
        "for label in labels:\n",
        "  # if label doesn't exist, create a dictionary\n",
        "  label_dir = os.path.join(img_path, label)\n",
        "  if not os.path.exists(label_dir):\n",
        "  #   os.makedirs(label_dir)\n",
        "    !mkdir {'/content/drive/MyDrive/Colab/' +label}\n",
        "  # else, the label exist, return true\n",
        "  os.makedirs(label_dir, exist_ok=True)\n",
        "\n",
        "  cap = cv2.VideoCapture(0)\n",
        "\n",
        "  if not cap.isOpened():\n",
        "      print(f\"Error: Could not open camera for {label}.\")\n",
        "      # Skip to the next label if camera cannot be opened\n",
        "      continue\n",
        "\n",
        "  print('Collecting images for {}'.format(label))\n",
        "  time.sleep(5)\n",
        "  for imgnum in range(number_imgs):\n",
        "    ret, frame = cap.read()\n",
        "\n",
        "    # check in frame was successfully captured\n",
        "    if ret:\n",
        "      imgname = os.path.join(img_path, label, label+'.'+'{}.jpg'.format(str(uuid.uuid1())))\n",
        "      cv2.imwrite(imgname, frame)\n",
        "      cv2.imshow('frame', frame)\n",
        "      time.sleep(5)\n",
        "\n",
        "      if cv2.waitKey(1) & 0xFF == ord('q'):\n",
        "        break\n",
        "    else:\n",
        "      print(f\"Warning: Could not capture frame {imgnum + 1} for {label}. Skipping.\")\n",
        "\n",
        "  cap.release()\n",
        "  cv2.destroyAllWindows()"
      ],
      "metadata": {
        "colab": {
          "base_uri": "https://localhost:8080/"
        },
        "id": "2VSVDYj4oKRH",
        "outputId": "9921c891-cca0-43e1-b2ee-02d394e29b67"
      },
      "execution_count": null,
      "outputs": [
        {
          "output_type": "stream",
          "name": "stdout",
          "text": [
            "Error: Could not open camera for j.\n",
            "Error: Could not open camera for k.\n"
          ]
        }
      ]
    },
    {
      "cell_type": "code",
      "source": [
        "from google.colab import drive\n",
        "from google.colab.output import eval_js\n",
        "from IPython.display import display, Javascript, Image, HTML\n",
        "from base64 import b64decode\n",
        "import cv2\n",
        "import numpy as np\n",
        "import PIL.Image\n",
        "import io\n",
        "import os\n",
        "import time # Import time if you need delays\n",
        "\n",
        "# Mount Google Drive\n",
        "drive.mount('/content/drive')\n",
        "\n",
        "# Helper function to convert JS data URL to OpenCV image (you already have this)\n",
        "def js_to_image(js_reply):\n",
        "  \"\"\"\n",
        "  Params:\n",
        "          js_reply: JavaScript object containing image from webcam\n",
        "  Returns:\n",
        "          img: OpenCV BGR image\n",
        "  \"\"\"\n",
        "  # decode base64 image\n",
        "  image_bytes = b64decode(js_reply.split(',')[1])\n",
        "  # convert bytes to numpy array\n",
        "  jpg_as_np = np.frombuffer(image_bytes, dtype=np.uint8)\n",
        "  # decode numpy array into OpenCV BGR image\n",
        "  img = cv2.imdecode(jpg_as_np, flags=1)\n",
        "\n",
        "  return img\n",
        "\n",
        "# JavaScript code to open camera and provide a capture function\n",
        "js_camera_setup = Javascript('''\n",
        "    async function setupCamera() {\n",
        "      const video = document.createElement('video');\n",
        "      const liveView = document.getElementById('liveView'); // Assuming you have a div with id 'liveView'\n",
        "      video.style.display = 'block';\n",
        "      const stream = await navigator.mediaDevices.getUserMedia({video: true});\n",
        "\n",
        "      liveView.innerHTML = ''; // Clear previous content\n",
        "      liveView.appendChild(video);\n",
        "      video.srcObject = stream;\n",
        "      await video.play();\n",
        "\n",
        "      // Function to capture photo and return data URL\n",
        "      window.capturePhoto = async function(quality = 0.8) {\n",
        "        const canvas = document.createElement('canvas');\n",
        "        canvas.width = video.videoWidth;\n",
        "        canvas.height = video.videoHeight;\n",
        "        canvas.getContext('2d').drawImage(video, 0, 0);\n",
        "        return canvas.toDataURL('image/jpeg', quality);\n",
        "      };\n",
        "\n",
        "       // Function to stop the camera stream\n",
        "      window.stopCamera = function() {\n",
        "          const stream = video.srcObject;\n",
        "          if (stream) {\n",
        "              stream.getTracks().forEach(track => track.stop());\n",
        "          }\n",
        "          liveView.innerHTML = ''; // Clear the video element\n",
        "      };\n",
        "\n",
        "      // Resize the output to fit the video element.\n",
        "      google.colab.output.setIframeHeight(document.documentElement.scrollHeight, true);\n",
        "    }\n",
        "''')\n",
        "\n",
        "# HTML to display controls and live view\n",
        "camera_ui = HTML('''\n",
        "<button id=\"openCameraBtn\">Open Camera</button>\n",
        "<button id=\"closeCameraBtn\" disabled>Close Camera</button>\n",
        "<div id=\"liveView\"></div>\n",
        "<script>\n",
        "    // Enable/disable buttons based on camera state\n",
        "    document.getElementById('openCameraBtn').onclick = async () => {\n",
        "        await google.colab.output.evalJs('setupCamera()');\n",
        "        document.getElementById('openCameraBtn').disabled = true;\n",
        "        document.getElementById('closeCameraBtn').disabled = false;\n",
        "    };\n",
        "    document.getElementById('closeCameraBtn').onclick = () => {\n",
        "        google.colab.output.evalJs('stopCamera()');\n",
        "        document.getElementById('openCameraBtn').disabled = false;\n",
        "        document.getElementById('closeCameraBtn').disabled = true;\n",
        "    };\n",
        "</script>\n",
        "''')\n",
        "\n",
        "\n",
        "def capture_sign_images_colab(label, num_samples=5):\n",
        "    \"\"\"Captures images for a given sign language label using Colab's webcam access.\"\"\"\n",
        "\n",
        "    # Google Drive directory path\n",
        "    drive_dir = '/content/drive/MyDrive/Colab/'  # Adjust this path as needed\n",
        "    label_dir = os.path.join(drive_dir, label)\n",
        "\n",
        "    # Create directory if it doesn't exist\n",
        "    os.makedirs(label_dir, exist_ok=True)\n",
        "\n",
        "    print(f\"Ready to collect {num_samples} images for '{label}'.\")\n",
        "    print(\"Use the buttons below to control the camera.\")\n",
        "    print(f\"After clicking 'Open Camera', position your hand for '{label}' and press 'Capture' when prompted.\")\n",
        "\n",
        "\n",
        "    # Display the camera UI\n",
        "    display(camera_ui)\n",
        "    # Display the JavaScript setup code\n",
        "    display(js_camera_setup)\n",
        "\n",
        "\n",
        "    # This part requires user interaction via buttons created by the HTML/JS\n",
        "    # We can't just loop and capture automatically. We need to wait for the user\n",
        "    # to take a photo.\n",
        "\n",
        "    # To capture 'num_samples' images, you would typically:\n",
        "    # 1. Open the camera.\n",
        "    # 2. Provide a \"Capture\" button in the UI (can be added to the HTML).\n",
        "    # 3. When the user clicks \"Capture\", call the `capturePhoto()` JS function\n",
        "    #    and get the data URL back in Python.\n",
        "    # 4. Process and save the image.\n",
        "    # 5. Repeat steps 3-4 `num_samples` times.\n",
        "    # 6. Close the camera.\n",
        "\n",
        "    # Implementing the capture loop with a simple prompt as an example:\n",
        "    for i in range(num_samples):\n",
        "        input(f\"Press Enter in the Python cell to capture image {i+1}/{num_samples} for '{label}'...\")\n",
        "        try:\n",
        "            # Call the JavaScript function to capture a photo\n",
        "            data_url = eval_js('capturePhoto()')\n",
        "\n",
        "            # Convert the data URL to an OpenCV image\n",
        "            img = js_to_image(data_url)\n",
        "\n",
        "            # Process the image (e.g., grayscale, resize if necessary for your model)\n",
        "            # Assuming your model expects 28x28 grayscale images\n",
        "            gray_img = cv2.cvtColor(img, cv2.COLOR_BGR2GRAY)\n",
        "            resized_img = cv2.resize(gray_img, (28, 28))\n",
        "\n",
        "            # Save the processed image to Google Drive\n",
        "            img_path = os.path.join(label_dir, f\"{label}_{i}.jpg\")\n",
        "            cv2.imwrite(img_path, resized_img)\n",
        "            print(f\"Image saved: {img_path}\")\n",
        "\n",
        "        except Exception as e:\n",
        "            print(f\"Error capturing image {i+1}/{num_samples}: {e}\")\n",
        "\n",
        "    # After capturing all images, stop the camera\n",
        "    eval_js('stopCamera()')\n",
        "    print(f\"Finished collecting images for '{label}'. Camera closed.\")\n",
        "\n",
        "# Example usage to capture 5 images for 'j' and 'k':\n",
        "labels_to_capture = ['j', 'k']\n",
        "for label in labels_to_capture:\n",
        "    capture_sign_images_colab(label, num_samples=5)\n",
        "\n"
      ],
      "metadata": {
        "colab": {
          "base_uri": "https://localhost:8080/",
          "height": 429
        },
        "id": "hnJXZUTHxPhR",
        "outputId": "923fe865-7326-40b8-d2c5-7c6eba1bec3c"
      },
      "execution_count": null,
      "outputs": [
        {
          "output_type": "stream",
          "name": "stdout",
          "text": [
            "Drive already mounted at /content/drive; to attempt to forcibly remount, call drive.mount(\"/content/drive\", force_remount=True).\n",
            "Ready to collect 5 images for 'j'.\n",
            "Use the buttons below to control the camera.\n",
            "After clicking 'Open Camera', position your hand for 'j' and press 'Capture' when prompted.\n"
          ]
        },
        {
          "output_type": "display_data",
          "data": {
            "text/plain": [
              "<IPython.core.display.HTML object>"
            ],
            "text/html": [
              "\n",
              "<button id=\"openCameraBtn\">Open Camera</button>\n",
              "<button id=\"closeCameraBtn\" disabled>Close Camera</button>\n",
              "<div id=\"liveView\"></div>\n",
              "<script>\n",
              "    // Enable/disable buttons based on camera state\n",
              "    document.getElementById('openCameraBtn').onclick = async () => {\n",
              "        await google.colab.output.evalJs('setupCamera()');\n",
              "        document.getElementById('openCameraBtn').disabled = true;\n",
              "        document.getElementById('closeCameraBtn').disabled = false;\n",
              "    };\n",
              "    document.getElementById('closeCameraBtn').onclick = () => {\n",
              "        google.colab.output.evalJs('stopCamera()');\n",
              "        document.getElementById('openCameraBtn').disabled = false;\n",
              "        document.getElementById('closeCameraBtn').disabled = true;\n",
              "    };\n",
              "</script>\n"
            ]
          },
          "metadata": {}
        },
        {
          "output_type": "display_data",
          "data": {
            "text/plain": [
              "<IPython.core.display.Javascript object>"
            ],
            "application/javascript": [
              "\n",
              "    async function setupCamera() {\n",
              "      const video = document.createElement('video');\n",
              "      const liveView = document.getElementById('liveView'); // Assuming you have a div with id 'liveView'\n",
              "      video.style.display = 'block';\n",
              "      const stream = await navigator.mediaDevices.getUserMedia({video: true});\n",
              "\n",
              "      liveView.innerHTML = ''; // Clear previous content\n",
              "      liveView.appendChild(video);\n",
              "      video.srcObject = stream;\n",
              "      await video.play();\n",
              "\n",
              "      // Function to capture photo and return data URL\n",
              "      window.capturePhoto = async function(quality = 0.8) {\n",
              "        const canvas = document.createElement('canvas');\n",
              "        canvas.width = video.videoWidth;\n",
              "        canvas.height = video.videoHeight;\n",
              "        canvas.getContext('2d').drawImage(video, 0, 0);\n",
              "        return canvas.toDataURL('image/jpeg', quality);\n",
              "      };\n",
              "\n",
              "       // Function to stop the camera stream\n",
              "      window.stopCamera = function() {\n",
              "          const stream = video.srcObject;\n",
              "          if (stream) {\n",
              "              stream.getTracks().forEach(track => track.stop());\n",
              "          }\n",
              "          liveView.innerHTML = ''; // Clear the video element\n",
              "      };\n",
              "\n",
              "      // Resize the output to fit the video element.\n",
              "      google.colab.output.setIframeHeight(document.documentElement.scrollHeight, true);\n",
              "    }\n"
            ]
          },
          "metadata": {}
        },
        {
          "output_type": "error",
          "ename": "KeyboardInterrupt",
          "evalue": "Interrupted by user",
          "traceback": [
            "\u001b[0;31m---------------------------------------------------------------------------\u001b[0m",
            "\u001b[0;31mKeyboardInterrupt\u001b[0m                         Traceback (most recent call last)",
            "\u001b[0;32m/tmp/ipython-input-36-414185406.py\u001b[0m in \u001b[0;36m<cell line: 0>\u001b[0;34m()\u001b[0m\n\u001b[1;32m    151\u001b[0m \u001b[0mlabels_to_capture\u001b[0m \u001b[0;34m=\u001b[0m \u001b[0;34m[\u001b[0m\u001b[0;34m'j'\u001b[0m\u001b[0;34m,\u001b[0m \u001b[0;34m'k'\u001b[0m\u001b[0;34m]\u001b[0m\u001b[0;34m\u001b[0m\u001b[0;34m\u001b[0m\u001b[0m\n\u001b[1;32m    152\u001b[0m \u001b[0;32mfor\u001b[0m \u001b[0mlabel\u001b[0m \u001b[0;32min\u001b[0m \u001b[0mlabels_to_capture\u001b[0m\u001b[0;34m:\u001b[0m\u001b[0;34m\u001b[0m\u001b[0;34m\u001b[0m\u001b[0m\n\u001b[0;32m--> 153\u001b[0;31m     \u001b[0mcapture_sign_images_colab\u001b[0m\u001b[0;34m(\u001b[0m\u001b[0mlabel\u001b[0m\u001b[0;34m,\u001b[0m \u001b[0mnum_samples\u001b[0m\u001b[0;34m=\u001b[0m\u001b[0;36m5\u001b[0m\u001b[0;34m)\u001b[0m\u001b[0;34m\u001b[0m\u001b[0;34m\u001b[0m\u001b[0m\n\u001b[0m\u001b[1;32m    154\u001b[0m \u001b[0;34m\u001b[0m\u001b[0m\n",
            "\u001b[0;32m/tmp/ipython-input-36-414185406.py\u001b[0m in \u001b[0;36mcapture_sign_images_colab\u001b[0;34m(label, num_samples)\u001b[0m\n\u001b[1;32m    123\u001b[0m     \u001b[0;31m# Implementing the capture loop with a simple prompt as an example:\u001b[0m\u001b[0;34m\u001b[0m\u001b[0;34m\u001b[0m\u001b[0m\n\u001b[1;32m    124\u001b[0m     \u001b[0;32mfor\u001b[0m \u001b[0mi\u001b[0m \u001b[0;32min\u001b[0m \u001b[0mrange\u001b[0m\u001b[0;34m(\u001b[0m\u001b[0mnum_samples\u001b[0m\u001b[0;34m)\u001b[0m\u001b[0;34m:\u001b[0m\u001b[0;34m\u001b[0m\u001b[0;34m\u001b[0m\u001b[0m\n\u001b[0;32m--> 125\u001b[0;31m         \u001b[0minput\u001b[0m\u001b[0;34m(\u001b[0m\u001b[0;34mf\"Press Enter in the Python cell to capture image {i+1}/{num_samples} for '{label}'...\"\u001b[0m\u001b[0;34m)\u001b[0m\u001b[0;34m\u001b[0m\u001b[0;34m\u001b[0m\u001b[0m\n\u001b[0m\u001b[1;32m    126\u001b[0m         \u001b[0;32mtry\u001b[0m\u001b[0;34m:\u001b[0m\u001b[0;34m\u001b[0m\u001b[0;34m\u001b[0m\u001b[0m\n\u001b[1;32m    127\u001b[0m             \u001b[0;31m# Call the JavaScript function to capture a photo\u001b[0m\u001b[0;34m\u001b[0m\u001b[0;34m\u001b[0m\u001b[0m\n",
            "\u001b[0;32m/usr/local/lib/python3.11/dist-packages/ipykernel/kernelbase.py\u001b[0m in \u001b[0;36mraw_input\u001b[0;34m(self, prompt)\u001b[0m\n\u001b[1;32m   1175\u001b[0m                 \u001b[0;34m\"raw_input was called, but this frontend does not support input requests.\"\u001b[0m\u001b[0;34m\u001b[0m\u001b[0;34m\u001b[0m\u001b[0m\n\u001b[1;32m   1176\u001b[0m             )\n\u001b[0;32m-> 1177\u001b[0;31m         return self._input_request(\n\u001b[0m\u001b[1;32m   1178\u001b[0m             \u001b[0mstr\u001b[0m\u001b[0;34m(\u001b[0m\u001b[0mprompt\u001b[0m\u001b[0;34m)\u001b[0m\u001b[0;34m,\u001b[0m\u001b[0;34m\u001b[0m\u001b[0;34m\u001b[0m\u001b[0m\n\u001b[1;32m   1179\u001b[0m             \u001b[0mself\u001b[0m\u001b[0;34m.\u001b[0m\u001b[0m_parent_ident\u001b[0m\u001b[0;34m[\u001b[0m\u001b[0;34m\"shell\"\u001b[0m\u001b[0;34m]\u001b[0m\u001b[0;34m,\u001b[0m\u001b[0;34m\u001b[0m\u001b[0;34m\u001b[0m\u001b[0m\n",
            "\u001b[0;32m/usr/local/lib/python3.11/dist-packages/ipykernel/kernelbase.py\u001b[0m in \u001b[0;36m_input_request\u001b[0;34m(self, prompt, ident, parent, password)\u001b[0m\n\u001b[1;32m   1217\u001b[0m             \u001b[0;32mexcept\u001b[0m \u001b[0mKeyboardInterrupt\u001b[0m\u001b[0;34m:\u001b[0m\u001b[0;34m\u001b[0m\u001b[0;34m\u001b[0m\u001b[0m\n\u001b[1;32m   1218\u001b[0m                 \u001b[0;31m# re-raise KeyboardInterrupt, to truncate traceback\u001b[0m\u001b[0;34m\u001b[0m\u001b[0;34m\u001b[0m\u001b[0m\n\u001b[0;32m-> 1219\u001b[0;31m                 \u001b[0;32mraise\u001b[0m \u001b[0mKeyboardInterrupt\u001b[0m\u001b[0;34m(\u001b[0m\u001b[0;34m\"Interrupted by user\"\u001b[0m\u001b[0;34m)\u001b[0m \u001b[0;32mfrom\u001b[0m \u001b[0;32mNone\u001b[0m\u001b[0;34m\u001b[0m\u001b[0;34m\u001b[0m\u001b[0m\n\u001b[0m\u001b[1;32m   1220\u001b[0m             \u001b[0;32mexcept\u001b[0m \u001b[0mException\u001b[0m\u001b[0;34m:\u001b[0m\u001b[0;34m\u001b[0m\u001b[0;34m\u001b[0m\u001b[0m\n\u001b[1;32m   1221\u001b[0m                 \u001b[0mself\u001b[0m\u001b[0;34m.\u001b[0m\u001b[0mlog\u001b[0m\u001b[0;34m.\u001b[0m\u001b[0mwarning\u001b[0m\u001b[0;34m(\u001b[0m\u001b[0;34m\"Invalid Message:\"\u001b[0m\u001b[0;34m,\u001b[0m \u001b[0mexc_info\u001b[0m\u001b[0;34m=\u001b[0m\u001b[0;32mTrue\u001b[0m\u001b[0;34m)\u001b[0m\u001b[0;34m\u001b[0m\u001b[0;34m\u001b[0m\u001b[0m\n",
            "\u001b[0;31mKeyboardInterrupt\u001b[0m: Interrupted by user"
          ]
        }
      ]
    },
    {
      "cell_type": "code",
      "source": [],
      "metadata": {
        "id": "nsrDsm4Nxs2Z"
      },
      "execution_count": null,
      "outputs": []
    },
    {
      "cell_type": "code",
      "source": [
        "from google.colab import drive\n",
        "import cv2\n",
        "import os\n",
        "\n",
        "# Mount Google Drive\n",
        "drive.mount('/content/drive')\n",
        "\n",
        "def capture_and_save_to_drive(value, num_samples=5):\n",
        "    \"\"\"Captures images from camera and saves them to Google Drive.\"\"\"\n",
        "\n",
        "    # Google Drive directory path\n",
        "    img_path = '/content/drive/MyDrive/Colab'\n",
        "    value_dir = os.path.join(img_path, value)\n",
        "\n",
        "    # Create directory if it doesn't exist\n",
        "    os.makedirs(value_dir, exist_ok=True)\n",
        "    cap = cv2.VideoCapture(0)  # 0 for default camera\n",
        "\n",
        "    if cap.isOpened():\n",
        "\n",
        "        print(\"Opening Camera.\")\n",
        "\n",
        "        return\n",
        "\n",
        "    if not cap.isOpened():\n",
        "        print(\"Error: Could not open camera.\")\n",
        "        return\n",
        "\n",
        "    count = 0\n",
        "    while count < num_samples:\n",
        "        ret, frame = cap.read()\n",
        "\n",
        "        if ret:\n",
        "            # Display instructions\n",
        "            cv2.putText(frame, f\"Show sign for '{value}' ({count + 1}/{num_samples})\",\n",
        "                        (10, 30), cv2.FONT_HERSHEY_SIMPLEX, 0.7, (0, 255, 0), 2)\n",
        "            cv2.imshow('Capture Sign', frame)\n",
        "\n",
        "            key = cv2.waitKey(1)\n",
        "            if key == ord('s'):\n",
        "                img_path = os.path.join(value_dir, f\"{value}_{count}.jpg\")\n",
        "                cv2.imwrite(img_path, frame)\n",
        "                print(f\"Image saved: {img_path}\")\n",
        "                count += 1\n",
        "            elif key == ord('q'):\n",
        "                break\n",
        "        else:\n",
        "            print(\"Error: Could not capture frame.\")\n",
        "            break\n",
        "\n",
        "    cap.release()\n",
        "    cv2.destroyAllWindows()\n",
        "\n",
        "# Example usage:\n",
        "missing_values = ['j', 'z', '0', '1', '2', '3', '4', '5', '6', '7', '8', '9']\n",
        "for value in missing_values:\n",
        "    capture_and_save_to_drive(value)\n",
        "    print(f\"Images captured for '{value}'\")"
      ],
      "metadata": {
        "colab": {
          "base_uri": "https://localhost:8080/"
        },
        "id": "5Jnj5RqioKOP",
        "outputId": "a5778b9c-666d-44ac-cda2-c890701b8a57"
      },
      "execution_count": null,
      "outputs": [
        {
          "output_type": "stream",
          "name": "stdout",
          "text": [
            "Drive already mounted at /content/drive; to attempt to forcibly remount, call drive.mount(\"/content/drive\", force_remount=True).\n",
            "Error: Could not open camera.\n",
            "Images captured for 'j'\n",
            "Error: Could not open camera.\n",
            "Images captured for 'z'\n",
            "Error: Could not open camera.\n",
            "Images captured for '0'\n",
            "Error: Could not open camera.\n",
            "Images captured for '1'\n",
            "Error: Could not open camera.\n",
            "Images captured for '2'\n",
            "Error: Could not open camera.\n",
            "Images captured for '3'\n",
            "Error: Could not open camera.\n",
            "Images captured for '4'\n",
            "Error: Could not open camera.\n",
            "Images captured for '5'\n",
            "Error: Could not open camera.\n",
            "Images captured for '6'\n",
            "Error: Could not open camera.\n",
            "Images captured for '7'\n",
            "Error: Could not open camera.\n",
            "Images captured for '8'\n",
            "Error: Could not open camera.\n",
            "Images captured for '9'\n"
          ]
        }
      ]
    },
    {
      "cell_type": "code",
      "source": [],
      "metadata": {
        "id": "xLMZo490oKJ3"
      },
      "execution_count": null,
      "outputs": []
    },
    {
      "cell_type": "code",
      "source": [],
      "metadata": {
        "id": "2Jnh83_ooKEH"
      },
      "execution_count": null,
      "outputs": []
    },
    {
      "cell_type": "code",
      "source": [],
      "metadata": {
        "id": "Qh8niIK3oJ6Y"
      },
      "execution_count": null,
      "outputs": []
    },
    {
      "cell_type": "markdown",
      "source": [],
      "metadata": {
        "id": "KUYt7x38oJeS"
      }
    },
    {
      "cell_type": "code",
      "source": [
        "from google.colab import drive\n",
        "drive.mount('/content/drive') # Make sure drive is mounted\n",
        "\n",
        "def capture_and_save_to_drive(value, num_samples=100):\n",
        "    \"\"\"Captures images from camera and saves them to Google Drive.\"\"\"\n",
        "\n",
        "    # Google Drive directory path\n",
        "    drive_dir = '/content/drive/MyDrive/Colab Notebooks/captured_images/'  # Adjust the path as needed\n",
        "    value_dir = os.path.join(drive_dir, value)\n",
        "\n",
        "    # Create directory if it doesn't exist\n",
        "    os.makedirs(value_dir, exist_ok=True)\n",
        "\n",
        "    cap = cv2.VideoCapture(0)  # 0 for default camera\n",
        "\n",
        "    if not cap.isOpened():\n",
        "        print(\"Error: Could not open camera.\")\n",
        "        return\n",
        "\n",
        "    count = 0\n",
        "    while count < num_samples:\n",
        "        ret, frame = cap.read()\n",
        "\n",
        "        if ret:\n",
        "            # Display instructions\n",
        "            cv2.putText(frame, f\"Show sign for '{value}' ({count + 1}/{num_samples})\",\n",
        "                        (10, 30), cv2.FONT_HERSHEY_SIMPLEX, 0.7, (0, 255, 0), 2)\n",
        "            cv2.imshow('Capture Sign', frame)\n",
        "\n",
        "            key = cv2.waitKey(1)\n",
        "            if key == ord('s'):\n",
        "                img_path = os.path.join(value_dir, f\"{value}_{count}.jpg\")\n",
        "                cv2.imwrite(img_path, frame)\n",
        "                print(f\"Image saved: {img_path}\")\n",
        "                count += 1\n",
        "            elif key == ord('q'):\n",
        "                break\n",
        "        else:\n",
        "            print(\"Error: Could not capture frame.\")\n",
        "            break\n",
        "\n",
        "    cap.release()\n",
        "    cv2.destroyAllWindows()\n",
        "\n",
        "# Example usage to capture 50 new images for 'j' and 'k':\n",
        "capture_and_save_to_drive('j', num_samples=50)\n",
        "capture_and_save_to_drive('k', num_samples=50)"
      ],
      "metadata": {
        "colab": {
          "base_uri": "https://localhost:8080/"
        },
        "id": "AfxIzMI_a3e4",
        "outputId": "13dec593-06eb-4469-d11b-3293fc9c9626"
      },
      "execution_count": null,
      "outputs": [
        {
          "output_type": "stream",
          "name": "stdout",
          "text": [
            "Drive already mounted at /content/drive; to attempt to forcibly remount, call drive.mount(\"/content/drive\", force_remount=True).\n",
            "Error: Could not open camera.\n",
            "Error: Could not open camera.\n"
          ]
        }
      ]
    },
    {
      "cell_type": "code",
      "source": [
        "# load and processing new images"
      ],
      "metadata": {
        "id": "VdZWe6Nxfpt4"
      },
      "execution_count": null,
      "outputs": []
    },
    {
      "cell_type": "markdown",
      "source": [
        "[youtube](https://youtu.be/pDXdlXlaCco?feature=shared)\n",
        "\n",
        "https://youtu.be/pDXdlXlaCco?feature=shared"
      ],
      "metadata": {
        "id": "WlzlrBYhmo0U"
      }
    },
    {
      "cell_type": "code",
      "source": [],
      "metadata": {
        "id": "lsALne69bkZ0"
      },
      "execution_count": null,
      "outputs": []
    },
    {
      "cell_type": "code",
      "source": [
        "# load and preprocess images:\n",
        "def load_and_preprocess_images(image_paths):\n",
        "    images = []\n",
        "    for filename in os.listdir(image_paths):\n",
        "        if filename.endswith(\".jpg\") or filename.endswith(\".png\"):\n",
        "            img_path = os.path.join(image_paths, filename)\n",
        "            img = cv2.imread(img_path, cv2.IMREAD_GRAYSCALE)\n",
        "            img = cv2.resize(img, (28, 28))  # Resize to 28x28\n",
        "            img = img / 255.0  # Normalize pixel values to [0, 1]\n",
        "            images.append(img)\n",
        "    return np.array(images)"
      ],
      "metadata": {
        "id": "yvpSaCZVD8KO"
      },
      "execution_count": null,
      "outputs": []
    },
    {
      "cell_type": "code",
      "source": [
        "# Load images for 'j' (label 9)\n",
        "j_images = load_and_preprocess_images('/content/drive/MyDrive/Colab Notebooks/j')"
      ],
      "metadata": {
        "id": "Z-wsURLKuH3s"
      },
      "execution_count": null,
      "outputs": []
    },
    {
      "cell_type": "code",
      "source": [
        "z_images = load_and_preprocess_images('/content/drive/MyDrive/Colab Notebooks/z')"
      ],
      "metadata": {
        "id": "QapebEZiubl7"
      },
      "execution_count": null,
      "outputs": []
    },
    {
      "cell_type": "code",
      "source": [
        "# Defining the base model\n",
        "\n",
        "# Initialize a sequential model to stack layers in a linear format.\n",
        "model1 = models.Sequential([\n",
        "    # Reshape the input to (28, 28, 1) to add a channel dimension for grayscale images\n",
        "    layers.Reshape((28, 28, 1), input_shape=(28, 28)),\n",
        "    # First convolutional layer with 32 filters of size 3x3, using ReLU activation, and setting the input shape.\n",
        "    layers.Conv2D(32, (3, 3), activation='relu', input_shape=(28, 28, 1)),\n",
        "    # First max pooling layer with a pool size of 2x2 to reduce the spatial dimensions.\n",
        "    layers.MaxPooling2D((2, 2)),\n",
        "    # Second convolutional layer with 64 filters of size 3x3, using ReLU activation.\n",
        "    layers.Conv2D(64, (3, 3), activation='relu'),\n",
        "    # Second max pooling layer with a pool size of 2x2.\n",
        "    layers.MaxPooling2D((2, 2)),\n",
        "    # Third convolutional layer with 64 filters of size 3x3, using ReLU activation.\n",
        "    layers.Conv2D(64, (3, 3), activation='relu'),\n",
        "    # Flatten the output from the convolutional layers to feed into the dense layers.\n",
        "    layers.Flatten(),\n",
        "    # Dense layer with 64 units and ReLU activation.\n",
        "    layers.Dense(64, activation='relu'),\n",
        "    # Output layer with 10 units (for the 10 classes) with no activation function specified yet.\n",
        "    layers.Dense(10)\n",
        "])\n",
        "\n",
        "# Generate a plot of the model\n",
        "plot_model(model1, to_file='model_architecture.png', show_shapes=True, show_layer_names=True)"
      ],
      "metadata": {
        "id": "zDxQgraYKMvb",
        "colab": {
          "base_uri": "https://localhost:8080/",
          "height": 1000
        },
        "collapsed": true,
        "outputId": "f6c75c43-1518-40e6-9535-d7a345b9ccb5"
      },
      "execution_count": null,
      "outputs": [
        {
          "output_type": "stream",
          "name": "stderr",
          "text": [
            "/usr/local/lib/python3.11/dist-packages/keras/src/layers/reshaping/reshape.py:39: UserWarning: Do not pass an `input_shape`/`input_dim` argument to a layer. When using Sequential models, prefer using an `Input(shape)` object as the first layer in the model instead.\n",
            "  super().__init__(**kwargs)\n",
            "/usr/local/lib/python3.11/dist-packages/keras/src/layers/convolutional/base_conv.py:107: UserWarning: Do not pass an `input_shape`/`input_dim` argument to a layer. When using Sequential models, prefer using an `Input(shape)` object as the first layer in the model instead.\n",
            "  super().__init__(activity_regularizer=activity_regularizer, **kwargs)\n"
          ]
        },
        {
          "output_type": "execute_result",
          "data": {
            "image/png": "[encoded data removed]",
            "text/plain": [
              "<IPython.core.display.Image object>"
            ]
          },
          "metadata": {},
          "execution_count": 30
        }
      ]
    },
    {
      "cell_type": "code",
      "source": [
        "# Assuming class_names represents the actual labels in your dataset\n",
        "num_classes = len(class_names)\n",
        "# Initialize a sequential model to stack layers in a linear format.\n",
        "model1 = models.Sequential([\n",
        "    # Reshape the input to (28, 28, 1) to add a channel dimension for grayscale images\n",
        "    layers.Reshape((28, 28, 1), input_shape=(28, 28)),\n",
        "    # First convolutional layer with 32 filters of size 3x3, using ReLU activation, and setting the input shape.\n",
        "    layers.Conv2D(32, (3, 3), activation='relu', input_shape=(28, 28, 1)),\n",
        "    # First max pooling layer with a pool size of 2x2 to reduce the spatial dimensions.\n",
        "    layers.MaxPooling2D((2, 2)),\n",
        "    # Second convolutional layer with 64 filters of size 3x3, using ReLU activation.\n",
        "    layers.Conv2D(64, (3, 3), activation='relu'),\n",
        "    # Second max pooling layer with a pool size of 2x2.\n",
        "    layers.MaxPooling2D((2, 2)),\n",
        "    # Third convolutional layer with 64 filters of size 3x3, using ReLU activation.\n",
        "    layers.Conv2D(64, (3, 3), activation='relu'),\n",
        "    # Flatten the output from the convolutional layers to feed into the dense layers.\n",
        "    layers.Flatten(),\n",
        "    # Dense layer with 64 units and ReLU activation.\n",
        "    layers.Dense(num_classes, activation='relu'),\n",
        "    # Output layer with 24 units (for the 24 classes)\n",
        "    layers.Dense(num_classes) # Changed from 10 to 24\n",
        "])"
      ],
      "metadata": {
        "colab": {
          "base_uri": "https://localhost:8080/"
        },
        "id": "Nl_-mzp-9qet",
        "outputId": "bafd63f7-3648-4efd-c18c-2aafe9709e39"
      },
      "execution_count": null,
      "outputs": [
        {
          "output_type": "stream",
          "name": "stderr",
          "text": [
            "/usr/local/lib/python3.11/dist-packages/keras/src/layers/reshaping/reshape.py:39: UserWarning: Do not pass an `input_shape`/`input_dim` argument to a layer. When using Sequential models, prefer using an `Input(shape)` object as the first layer in the model instead.\n",
            "  super().__init__(**kwargs)\n",
            "/usr/local/lib/python3.11/dist-packages/keras/src/layers/convolutional/base_conv.py:107: UserWarning: Do not pass an `input_shape`/`input_dim` argument to a layer. When using Sequential models, prefer using an `Input(shape)` object as the first layer in the model instead.\n",
            "  super().__init__(activity_regularizer=activity_regularizer, **kwargs)\n"
          ]
        }
      ]
    },
    {
      "cell_type": "code",
      "source": [
        "# Compile the model\n",
        "model1.compile(optimizer='adam',\n",
        "              loss=tensorflow.keras.losses.SparseCategoricalCrossentropy(from_logits=True),\n",
        "              metrics=['accuracy'])"
      ],
      "metadata": {
        "id": "3KacQ36r9uk-"
      },
      "execution_count": null,
      "outputs": []
    },
    {
      "cell_type": "code",
      "source": [
        "# use early stopping to prevent overfitting\n",
        "early_stopping = EarlyStopping(monitor='val_loss', patience=5, restore_best_weights=True)"
      ],
      "metadata": {
        "id": "7zvw3gsq9yfw"
      },
      "execution_count": null,
      "outputs": []
    },
    {
      "cell_type": "code",
      "source": [
        "# Reshape the training and testing images to (28, 28, 1) before fitting the model\n",
        "train_images = train_images.reshape(-1, 28, 28, 1)\n",
        "test_images = test_images.reshape(-1, 28, 28, 1)"
      ],
      "metadata": {
        "id": "LC51QieF92LE"
      },
      "execution_count": null,
      "outputs": []
    },
    {
      "cell_type": "code",
      "source": [
        "# fit the model\n",
        "# history = model1.fit(train_images, train_labels, epochs=10, validation_data=(test_images, test_labels), callbacks=[early_stopping])\n",
        "\n",
        "# fit the model\n",
        "# Ensure your training and validation data is of type float32\n",
        "train_images = train_images.astype(np.float32)\n",
        "test_images = test_images.astype(np.float32)\n",
        "train_labels = train_labels.astype(np.int32)  # or np.int64 if needed\n",
        "test_labels = test_labels.astype(np.int32)  # or np.int64 if needed\n",
        "\n",
        "history = model1.fit(train_images, train_labels, epochs=10, validation_data=(test_images, test_labels), callbacks=[early_stopping])"
      ],
      "metadata": {
        "colab": {
          "base_uri": "https://localhost:8080/"
        },
        "id": "onNzWqZP-XVm",
        "outputId": "42e001f1-f99e-44eb-b445-172bba42cf0a"
      },
      "execution_count": null,
      "outputs": [
        {
          "output_type": "stream",
          "name": "stdout",
          "text": [
            "Epoch 1/10\n",
            "\u001b[1m858/858\u001b[0m \u001b[32m━━━━━━━━━━━━━━━━━━━━\u001b[0m\u001b[37m\u001b[0m \u001b[1m32s\u001b[0m 35ms/step - accuracy: 0.0456 - loss: 3.2252 - val_accuracy: 0.0446 - val_loss: 3.1803\n",
            "Epoch 2/10\n",
            "\u001b[1m858/858\u001b[0m \u001b[32m━━━━━━━━━━━━━━━━━━━━\u001b[0m\u001b[37m\u001b[0m \u001b[1m40s\u001b[0m 35ms/step - accuracy: 0.0434 - loss: 3.1797 - val_accuracy: 0.0437 - val_loss: 3.1787\n",
            "Epoch 3/10\n",
            "\u001b[1m858/858\u001b[0m \u001b[32m━━━━━━━━━━━━━━━━━━━━\u001b[0m\u001b[37m\u001b[0m \u001b[1m34s\u001b[0m 39ms/step - accuracy: 0.0457 - loss: 3.1788 - val_accuracy: 0.0471 - val_loss: 3.1770\n",
            "Epoch 4/10\n",
            "\u001b[1m858/858\u001b[0m \u001b[32m━━━━━━━━━━━━━━━━━━━━\u001b[0m\u001b[37m\u001b[0m \u001b[1m41s\u001b[0m 39ms/step - accuracy: 0.0479 - loss: 3.1773 - val_accuracy: 0.0466 - val_loss: 3.1759\n",
            "Epoch 5/10\n",
            "\u001b[1m858/858\u001b[0m \u001b[32m━━━━━━━━━━━━━━━━━━━━\u001b[0m\u001b[37m\u001b[0m \u001b[1m37s\u001b[0m 35ms/step - accuracy: 0.0626 - loss: 3.0972 - val_accuracy: 0.3053 - val_loss: 2.1265\n",
            "Epoch 6/10\n",
            "\u001b[1m858/858\u001b[0m \u001b[32m━━━━━━━━━━━━━━━━━━━━\u001b[0m\u001b[37m\u001b[0m \u001b[1m30s\u001b[0m 35ms/step - accuracy: 0.3424 - loss: 1.9843 - val_accuracy: 0.4355 - val_loss: 1.6468\n",
            "Epoch 7/10\n",
            "\u001b[1m858/858\u001b[0m \u001b[32m━━━━━━━━━━━━━━━━━━━━\u001b[0m\u001b[37m\u001b[0m \u001b[1m41s\u001b[0m 35ms/step - accuracy: 0.4662 - loss: 1.5753 - val_accuracy: 0.5249 - val_loss: 1.4076\n",
            "Epoch 8/10\n",
            "\u001b[1m858/858\u001b[0m \u001b[32m━━━━━━━━━━━━━━━━━━━━\u001b[0m\u001b[37m\u001b[0m \u001b[1m36s\u001b[0m 41ms/step - accuracy: 0.5332 - loss: 1.3824 - val_accuracy: 0.5686 - val_loss: 1.2902\n",
            "Epoch 9/10\n",
            "\u001b[1m858/858\u001b[0m \u001b[32m━━━━━━━━━━━━━━━━━━━━\u001b[0m\u001b[37m\u001b[0m \u001b[1m33s\u001b[0m 38ms/step - accuracy: 0.5785 - loss: 1.2496 - val_accuracy: 0.6004 - val_loss: 1.1795\n",
            "Epoch 10/10\n",
            "\u001b[1m858/858\u001b[0m \u001b[32m━━━━━━━━━━━━━━━━━━━━\u001b[0m\u001b[37m\u001b[0m \u001b[1m41s\u001b[0m 38ms/step - accuracy: 0.5992 - loss: 1.1775 - val_accuracy: 0.6244 - val_loss: 1.1136\n"
          ]
        }
      ]
    },
    {
      "cell_type": "code",
      "source": [
        "# Model 1\n",
        "test_loss, test_accuracy = model1.evaluate(test_images, test_labels, verbose=2)\n",
        "print(\"Test Accuracy:\", test_accuracy)"
      ],
      "metadata": {
        "colab": {
          "base_uri": "https://localhost:8080/"
        },
        "id": "EfWPtWcgAH8Z",
        "outputId": "0a6d42fe-3ef4-4700-eced-b3684245887d"
      },
      "execution_count": null,
      "outputs": [
        {
          "output_type": "stream",
          "name": "stdout",
          "text": [
            "858/858 - 13s - 15ms/step - accuracy: 0.6244 - loss: 1.1136\n",
            "Test Accuracy: 0.6244035959243774\n"
          ]
        }
      ]
    },
    {
      "cell_type": "code",
      "source": [
        "# Predict th model\n",
        "y_pred = model1.predict(test_images)\n",
        "y_pred_classes = np.argmax(y_pred, axis=1)"
      ],
      "metadata": {
        "colab": {
          "base_uri": "https://localhost:8080/"
        },
        "id": "xxvlWrQaC19O",
        "outputId": "ebe42ecc-0c5d-4109-fa10-c97e675008e5"
      },
      "execution_count": null,
      "outputs": [
        {
          "output_type": "stream",
          "name": "stdout",
          "text": [
            "\u001b[1m858/858\u001b[0m \u001b[32m━━━━━━━━━━━━━━━━━━━━\u001b[0m\u001b[37m\u001b[0m \u001b[1m6s\u001b[0m 7ms/step\n"
          ]
        }
      ]
    },
    {
      "cell_type": "code",
      "source": [
        "# model 1\n",
        "print(classification_report(test_labels, y_pred_classes))"
      ],
      "metadata": {
        "colab": {
          "base_uri": "https://localhost:8080/"
        },
        "id": "qnOKuhogCoRI",
        "outputId": "80b20cac-7fb0-4e71-8bb6-e4281545220c"
      },
      "execution_count": null,
      "outputs": [
        {
          "output_type": "stream",
          "name": "stdout",
          "text": [
            "              precision    recall  f1-score   support\n",
            "\n",
            "           0       0.74      0.87      0.80      1126\n",
            "           1       0.83      0.92      0.87      1010\n",
            "           2       0.96      0.76      0.85      1144\n",
            "           3       0.52      0.69      0.59      1196\n",
            "           4       0.71      0.75      0.73       957\n",
            "           5       0.66      0.81      0.73      1204\n",
            "           6       0.67      0.70      0.69      1090\n",
            "           7       0.59      0.87      0.71      1013\n",
            "           8       0.47      0.51      0.49      1162\n",
            "          10       0.54      0.55      0.55      1114\n",
            "          11       0.68      0.71      0.70      1241\n",
            "          12       0.38      0.27      0.32      1055\n",
            "          13       0.43      0.54      0.48      1151\n",
            "          14       0.84      0.87      0.85      1196\n",
            "          15       0.87      0.93      0.90      1088\n",
            "          16       0.85      0.69      0.76      1279\n",
            "          17       0.53      0.60      0.56      1294\n",
            "          18       0.46      0.37      0.41      1199\n",
            "          19       0.68      0.23      0.34      1186\n",
            "          20       0.59      0.26      0.36      1161\n",
            "          21       0.52      0.50      0.51      1082\n",
            "          22       0.66      0.60      0.63      1225\n",
            "          23       0.68      0.62      0.65      1164\n",
            "          24       0.31      0.42      0.36      1118\n",
            "\n",
            "    accuracy                           0.62     27455\n",
            "   macro avg       0.63      0.63      0.62     27455\n",
            "weighted avg       0.63      0.62      0.62     27455\n",
            "\n"
          ]
        }
      ]
    },
    {
      "cell_type": "code",
      "source": [
        "# Model 1\n",
        "# Plotting for training and validation accuracy\n",
        "plt.plot(history.history['accuracy'], label='Training Accuracy')\n",
        "plt.plot(history.history['val_accuracy'], label='Validation Accuracy')\n",
        "plt.title('Model Accuracy  for model 1')\n",
        "plt.xlabel('Epoch')\n",
        "plt.ylabel('Accuracy')\n",
        "plt.legend()\n",
        "plt.show()"
      ],
      "metadata": {
        "colab": {
          "base_uri": "https://localhost:8080/",
          "height": 472
        },
        "id": "__TVr9nwANa7",
        "outputId": "e13a9310-5b9c-4c7c-f410-56fe08895a0d",
        "collapsed": true
      },
      "execution_count": null,
      "outputs": [
        {
          "output_type": "display_data",
          "data": {
            "text/plain": [
              "<Figure size 640x480 with 1 Axes>"
            ],
            "image/png": "[encoded data removed]"
          },
          "metadata": {}
        }
      ]
    },
    {
      "cell_type": "code",
      "source": [
        "# Model 1\n",
        "# Save the trained model to a file in HDF5 format, allowing easy storage of large numerical data.\n",
        "model1.save('my_model1.h5')\n",
        "# Print confirmation that the model was saved successfully.\n",
        "print(\"Model saved successfully.\")"
      ],
      "metadata": {
        "colab": {
          "base_uri": "https://localhost:8080/"
        },
        "id": "X0b21UcyAU4f",
        "outputId": "afbcf7e5-176d-41be-fb90-6007ff9477c4"
      },
      "execution_count": null,
      "outputs": [
        {
          "output_type": "stream",
          "name": "stderr",
          "text": [
            "WARNING:absl:You are saving your model as an HDF5 file via `model.save()` or `keras.saving.save_model(model)`. This file format is considered legacy. We recommend using instead the native Keras format, e.g. `model.save('my_model.keras')` or `keras.saving.save_model(model, 'my_model.keras')`. \n"
          ]
        },
        {
          "output_type": "stream",
          "name": "stdout",
          "text": [
            "Model saved successfully.\n"
          ]
        }
      ]
    },
    {
      "cell_type": "code",
      "source": [
        "# model 1\n",
        "#  Load the model saved in HDF5 format. This model is now ready to be used for inference or further training.\n",
        "loaded_model1 = tensorflow.keras.models.load_model('my_model1.h5')"
      ],
      "metadata": {
        "colab": {
          "base_uri": "https://localhost:8080/"
        },
        "id": "-50v-i9BAXu9",
        "outputId": "e354c750-891f-40a5-e891-07e59f3e9d94"
      },
      "execution_count": null,
      "outputs": [
        {
          "output_type": "stream",
          "name": "stderr",
          "text": [
            "WARNING:absl:Compiled the loaded model, but the compiled metrics have yet to be built. `model.compile_metrics` will be empty until you train or evaluate the model.\n"
          ]
        }
      ]
    },
    {
      "cell_type": "code",
      "source": [
        "# model 1\n",
        "# Function to plot test images with predictions\n",
        "def plot_predictions(train_images, unique_labels, train_labels, class_names, num_images=10):\n",
        "    plt.figure(figsize=(10, 10))\n",
        "    for i in range(num_images):\n",
        "        plt.subplot(5, 5, i + 1)\n",
        "        plt.imshow(train_images[i].reshape(28, 28), cmap='gray')\n",
        "        plt.axis('off')\n",
        "        plt.title(f'True: {class_names[unique_labels[i]]}\\nPred: {class_names[train_labels[i]]}')\n",
        "    plt.tight_layout()\n",
        "    plt.show()\n",
        "\n",
        "# Plot the first 10 test images with their true and predicted labels\n",
        "plot_predictions(test_images, test_labels , y_pred_classes,  class_names, num_images=10)"
      ],
      "metadata": {
        "colab": {
          "base_uri": "https://localhost:8080/",
          "height": 415
        },
        "id": "dqW--vIpAgoU",
        "outputId": "76b685aa-5273-4a5f-805f-9070f3553859"
      },
      "execution_count": null,
      "outputs": [
        {
          "output_type": "display_data",
          "data": {
            "text/plain": [
              "<Figure size 1000x1000 with 10 Axes>"
            ],
            "image/png": "[encoded data removed]"
          },
          "metadata": {}
        }
      ]
    },
    {
      "cell_type": "code",
      "source": [
        "def display_text_as_images(text):\n",
        "    images_to_display = []\n",
        "    for char in text.lower():\n",
        "        if char in class_names:\n",
        "            # Get the index of the character in class_names\n",
        "            char_index = class_names.index(char)\n",
        "\n",
        "            # Find an image in the dataset corresponding to the character\n",
        "            image_row = asl_data[asl_data['label'] == char_index].iloc[0]  # Get the first matching row\n",
        "            image_data = image_row.loc['pixel1':'pixel784'].values.reshape(28, 28)  # Reshape to 28x28\n",
        "\n",
        "            # Convert image data to RGB format for display\n",
        "            image_rgb = cv2.cvtColor(image_data.astype(np.uint8), cv2.COLOR_GRAY2RGB)\n",
        "            images_to_display.append(image_rgb)\n",
        "        else:\n",
        "            print(f\"Character '{char}' not found in the dataset.\")\n",
        "\n",
        "    # Display images side-by-side using matplotlib\n",
        "    if images_to_display:\n",
        "        fig, axes = plt.subplots(1, len(images_to_display), figsize=(10, 5))\n",
        "        for i, img in enumerate(images_to_display):\n",
        "            axes[i].imshow(img)\n",
        "            axes[i].set_title(text[i])  # Set title as the original character\n",
        "            axes[i].axis('off')  # Hide axes\n",
        "        plt.show()\n",
        "\n",
        "# Get text input from the user\n",
        "# text_input = input(\"Enter text: \")\n",
        "text_input = \"abcdef\" # @param {type: \"string\"}\n",
        "# Display the text as images\n",
        "display_text_as_images(text_input)\n"
      ],
      "metadata": {
        "colab": {
          "base_uri": "https://localhost:8080/",
          "height": 170
        },
        "id": "98NhF90yAzzg",
        "outputId": "fb7e2066-fd58-4f9b-f061-02089f6a8c74"
      },
      "execution_count": null,
      "outputs": [
        {
          "output_type": "display_data",
          "data": {
            "text/plain": [
              "<Figure size 1000x500 with 6 Axes>"
            ],
            "image/png": "[encoded data removed]"
          },
          "metadata": {}
        }
      ]
    },
    {
      "cell_type": "code",
      "source": [
        "# function to capture and save images\n",
        "\n",
        "def capture_and_save(value, num_samples=100):\n",
        "  # capturing image from camera and saves them with labels\n",
        "\n",
        "  # Google Drive directory path\n",
        "  drive_dir = '/content/drive/MyDrive/Colab Notebooks/'\n",
        "  value_dir = os.path.join(drive_dir, value)\n",
        "\n",
        "  # creating directory if it does not exist\n",
        "  if not os.path.exists(value_dir):\n",
        "    os.makedirs(value_dir)\n",
        "\n",
        "  cap = cv2.VideoCapture(0) # 0 for default camera\n",
        "  count = 0\n",
        "\n",
        "  while count < num_samples:\n",
        "    ret, frame = cap.read()\n",
        "\n",
        "    if ret:\n",
        "      #Display a window with instructions\n",
        "      cv2.putText(frame, f\"Show sign for '{value} ({count + 1}/{num_sample})\",\n",
        "                  (10, 30), cv2.FONT_HERSHEY_SIMPLEX, 0.7, (0, 255, 0), 2)\n",
        "      cv2.imshow('Capture Sign', frame)\n",
        "\n",
        "      key = cv2.waitkey(1)\n",
        "      if key == ord('s'): # Press 's' to save the image\n",
        "        img_path = os.path.join(value_dir, f\"{value}_{count}.jpg\")\n",
        "        cv2.imwrite(img_path, frame)\n",
        "        print(f\"Image saved: {img_path}\")\n",
        "        count += 1\n",
        "      elif key == ord('q'): # Press 'q' to quit\n",
        "        break\n",
        "\n",
        "  cap.release()\n",
        "  cv2.destroyAllWindows()\n",
        "\n"
      ],
      "metadata": {
        "id": "HEC_fgFk8tAb"
      },
      "execution_count": 88,
      "outputs": []
    },
    {
      "cell_type": "code",
      "source": [
        "# import dependencies\n",
        "from IPython.display import display, Javascript, Image\n",
        "from google.colab.output import eval_js\n",
        "from base64 import b64decode, b64encode\n",
        "import cv2\n",
        "import numpy as np\n",
        "import PIL\n",
        "import io\n",
        "import html\n",
        "import time"
      ],
      "metadata": {
        "id": "GQZiVeJjaym7"
      },
      "execution_count": 89,
      "outputs": []
    },
    {
      "cell_type": "code",
      "source": [
        "# function to convert the JavaScript object into an OpenCV image\n",
        "def js_to_image(js_reply):\n",
        "  \"\"\"\n",
        "  Params:\n",
        "          js_reply: JavaScript object containing image from webcam\n",
        "  Returns:\n",
        "          img: OpenCV BGR image\n",
        "  \"\"\"\n",
        "  # decode base64 image\n",
        "  image_bytes = b64decode(js_reply.split(',')[1])\n",
        "  # convert bytes to numpy array\n",
        "  jpg_as_np = np.frombuffer(image_bytes, dtype=np.uint8)\n",
        "  # decode numpy array into OpenCV BGR image\n",
        "  img = cv2.imdecode(jpg_as_np, flags=1)\n",
        "\n",
        "  return img\n",
        "\n",
        "# function to convert OpenCV Rectangle bounding box image into base64 byte string to be overlayed on video stream\n",
        "def bbox_to_bytes(bbox_array):\n",
        "  \"\"\"\n",
        "  Params:\n",
        "          bbox_array: Numpy array (pixels) containing rectangle to overlay on video stream.\n",
        "  Returns:\n",
        "        bytes: Base64 image byte string\n",
        "  \"\"\"\n",
        "  # convert array into PIL image\n",
        "  bbox_PIL = PIL.Image.fromarray(bbox_array, 'RGBA')\n",
        "  iobuf = io.BytesIO()\n",
        "  # format bbox into png for return\n",
        "  bbox_PIL.save(iobuf, format='png')\n",
        "  # format return string\n",
        "  bbox_bytes = 'data:image/png;base64,{}'.format((str(b64encode(iobuf.getvalue()), 'utf-8')))\n",
        "\n",
        "  return bbox_bytes"
      ],
      "metadata": {
        "id": "iFhY2qnAa1oC"
      },
      "execution_count": 90,
      "outputs": []
    },
    {
      "cell_type": "code",
      "source": [
        "from IPython.display import display, Javascript, Image, HTML # Added HTML\n",
        "from google.colab.output import eval_js\n",
        "def take_photo(filename='photo.jpg', quality=0.8):\n",
        "  # Create HTML buttons\n",
        "  buttons_html = \"\"\"\n",
        "  <button id=\"openCameraBtn\">Open Camera</button>\n",
        "  <button id=\"closeCameraBtn\" disabled>Close Camera</button>\n",
        "  <div id=\"liveView\"></div>\n",
        "  \"\"\"\n",
        "  display(HTML(buttons_html))\n",
        "\n",
        "  js = Javascript(\"\"\"\n",
        "    async function openCamera() {\n",
        "      const video = document.createElement('video');\n",
        "      video.style.display = 'block';\n",
        "      const stream = await navigator.mediaDevices.getUserMedia({video: true});\n",
        "\n",
        "      document.getElementById('liveView').appendChild(video);\n",
        "      video.srcObject = stream;\n",
        "      await video.play();\n",
        "\n",
        "      // Enable close button, disable open button\n",
        "      document.getElementById('closeCameraBtn').disabled = false;\n",
        "      document.getElementById('openCameraBtn').disabled = true;\n",
        "\n",
        "      // Function to capture photo\n",
        "      window.capturePhoto = async function() {\n",
        "        const canvas = document.createElement('canvas');\n",
        "        canvas.width = video.videoWidth;\n",
        "        canvas.height = video.videoHeight;\n",
        "        canvas.getContext('2d').drawImage(video, 0, 0);\n",
        "        return canvas.toDataURL('image/jpeg', \"\"\" + str(quality) + \"\"\");\n",
        "      }\n",
        "    }\n",
        "\n",
        "    function closeCamera() {\n",
        "      const video = document.getElementById('liveView').querySelector('video');\n",
        "      if (video) {\n",
        "        const stream = video.srcObject;\n",
        "        if (stream) {\n",
        "          stream.getTracks().forEach(track => track.stop());\n",
        "        }\n",
        "        video.remove();\n",
        "      }\n",
        "      // Enable open button, disable close button\n",
        "      document.getElementById('closeCameraBtn').disabled = true;\n",
        "      document.getElementById('openCameraBtn').disabled = false;\n",
        "    }\n",
        "\n",
        "    document.getElementById('openCameraBtn').onclick = openCamera;\n",
        "    document.getElementById('closeCameraBtn').onclick = closeCamera;\n",
        "  \"\"\")\n",
        "  display(js)\n",
        "\n"
      ],
      "metadata": {
        "id": "MIldXCWrdR3x"
      },
      "execution_count": 91,
      "outputs": []
    },
    {
      "cell_type": "code",
      "source": [
        "from google.colab import drive\n",
        "import cv2\n",
        "import os\n",
        "\n",
        "# Mount Google Drive\n",
        "drive.mount('/content/drive')\n",
        "\n",
        "def capture_and_save_to_drive(value, num_samples=100):\n",
        "    \"\"\"Captures images from camera and saves them to Google Drive.\"\"\"\n",
        "\n",
        "    # Google Drive directory path\n",
        "    drive_dir = '/content/drive/MyDrive/Colab Notebooks/captured_images/'  # Adjust the path as needed\n",
        "    value_dir = os.path.join(drive_dir, value)\n",
        "\n",
        "    # Create directory if it doesn't exist\n",
        "    os.makedirs(value_dir, exist_ok=True)\n",
        "\n",
        "    cap = cv2.VideoCapture(0)  # 0 for default camera\n",
        "\n",
        "    if not cap.isOpened():\n",
        "        print(\"Error: Could not open camera.\")\n",
        "        return\n",
        "\n",
        "    count = 0\n",
        "    while count < num_samples:\n",
        "        ret, frame = cap.read()\n",
        "\n",
        "        if ret:\n",
        "            # Display instructions\n",
        "            cv2.putText(frame, f\"Show sign for '{value}' ({count + 1}/{num_samples})\",\n",
        "                        (10, 30), cv2.FONT_HERSHEY_SIMPLEX, 0.7, (0, 255, 0), 2)\n",
        "            cv2.imshow('Capture Sign', frame)\n",
        "\n",
        "            key = cv2.waitKey(1)\n",
        "            if key == ord('s'):\n",
        "                img_path = os.path.join(value_dir, f\"{value}_{count}.jpg\")\n",
        "                cv2.imwrite(img_path, frame)\n",
        "                print(f\"Image saved: {img_path}\")\n",
        "                count += 1\n",
        "            elif key == ord('q'):\n",
        "                break\n",
        "        else:\n",
        "            print(\"Error: Could not capture frame.\")\n",
        "            break\n",
        "\n",
        "    cap.release()\n",
        "    cv2.destroyAllWindows()\n",
        "\n",
        "# Example usage:\n",
        "missing_values = ['j', 'z', '0', '1', '2', '3', '4', '5', '6', '7', '8', '9']\n",
        "for value in missing_values:\n",
        "    capture_and_save_to_drive(value)\n",
        "    print(f\"Images captured for '{value}'\")"
      ],
      "metadata": {
        "colab": {
          "base_uri": "https://localhost:8080/"
        },
        "id": "tJnACmm_ZFUK",
        "outputId": "fa3807f8-2258-490f-d0c5-8a818248fd7d"
      },
      "execution_count": 92,
      "outputs": [
        {
          "output_type": "stream",
          "name": "stdout",
          "text": [
            "Drive already mounted at /content/drive; to attempt to forcibly remount, call drive.mount(\"/content/drive\", force_remount=True).\n",
            "Error: Could not open camera.\n",
            "Images captured for 'j'\n",
            "Error: Could not open camera.\n",
            "Images captured for 'z'\n",
            "Error: Could not open camera.\n",
            "Images captured for '0'\n",
            "Error: Could not open camera.\n",
            "Images captured for '1'\n",
            "Error: Could not open camera.\n",
            "Images captured for '2'\n",
            "Error: Could not open camera.\n",
            "Images captured for '3'\n",
            "Error: Could not open camera.\n",
            "Images captured for '4'\n",
            "Error: Could not open camera.\n",
            "Images captured for '5'\n",
            "Error: Could not open camera.\n",
            "Images captured for '6'\n",
            "Error: Could not open camera.\n",
            "Images captured for '7'\n",
            "Error: Could not open camera.\n",
            "Images captured for '8'\n",
            "Error: Could not open camera.\n",
            "Images captured for '9'\n"
          ]
        }
      ]
    },
    {
      "cell_type": "code",
      "source": [
        "import cv2\n",
        "\n",
        "# Initialize the camera\n",
        "cap = cv2.VideoCapture(0)  # 0 usually refers to the default webcam\n",
        "\n",
        "# Check if the camera opened successfully\n",
        "if not cap.isOpened():\n",
        "    print(\"Error: Could not open camera.\")\n",
        "    exit()\n",
        "\n",
        "# Capture a frame\n",
        "ret, frame = cap.read()\n",
        "\n",
        "# Check if the frame was captured successfully\n",
        "if ret:\n",
        "    # Display the captured frame in a window\n",
        "    cv2.imshow('Captured Image', frame)\n",
        "\n",
        "    # Save the captured frame to a file (optional)\n",
        "    cv2.imwrite('captured_image.jpg', frame)\n",
        "    print(\"Image captured and saved to 'captured_image.jpg'\")\n",
        "\n",
        "    # Wait for a key press and then close the window\n",
        "    cv2.waitKey(0)\n",
        "    cv2.destroyAllWindows()\n",
        "else:\n",
        "    print(\"Error: Could not capture frame.\")\n",
        "\n",
        "# Release the camera\n",
        "cap.release()"
      ],
      "metadata": {
        "colab": {
          "base_uri": "https://localhost:8080/"
        },
        "id": "4t200r7pZu8L",
        "outputId": "72b2cc17-8541-466c-808f-5ee98f8fb629"
      },
      "execution_count": null,
      "outputs": [
        {
          "output_type": "stream",
          "name": "stdout",
          "text": [
            "Error: Could not open camera.\n",
            "Error: Could not capture frame.\n"
          ]
        }
      ]
    },
    {
      "cell_type": "code",
      "metadata": {
        "id": "5aa81f11"
      },
      "source": [],
      "execution_count": null,
      "outputs": []
    }
  ]
}